{
 "cells": [
  {
   "cell_type": "markdown",
   "metadata": {},
   "source": [
    "# **Writing Postgres Queries**\n",
    "In order to write the API, I'll need a couple of different Postgres queries. I'll test them out throughout this notebook! "
   ]
  },
  {
   "cell_type": "markdown",
   "metadata": {},
   "source": [
    "# Setup\n",
    "The cells below will set up the rest of the notebook.\n",
    "\n",
    "I'll start by configuring the kernel: "
   ]
  },
  {
   "cell_type": "code",
   "execution_count": 1,
   "metadata": {},
   "outputs": [
    {
     "name": "stdout",
     "output_type": "stream",
     "text": [
      "d:\\data\\programming\\neural-needledrop\\api\n"
     ]
    }
   ],
   "source": [
    "# Change the working directory \n",
    "%cd ..\n",
    "\n",
    "# Enable the autoreload extension, which will automatically load in new code as it's written\n",
    "%load_ext autoreload\n",
    "%autoreload 2"
   ]
  },
  {
   "cell_type": "markdown",
   "metadata": {},
   "source": [
    "Now I'll import some necessary modules:"
   ]
  },
  {
   "cell_type": "code",
   "execution_count": 2,
   "metadata": {},
   "outputs": [],
   "source": [
    "# General import statements\n",
    "import pandas as pd\n",
    "from pandas_gbq import read_gbq\n",
    "from sqlalchemy import create_engine, MetaData\n",
    "from sqlalchemy.orm import sessionmaker, declarative_base\n",
    "from tqdm import tqdm\n",
    "from pathlib import Path\n",
    "from google.cloud import storage\n",
    "from concurrent.futures import ThreadPoolExecutor, as_completed\n",
    "import numpy as np\n",
    "\n",
    "# Importing custom modules \n",
    "from utils.openai import embed_text, embed_text_list\n",
    "from utils.settings import (\n",
    "    GBQ_PROJECT_ID,\n",
    "    GBQ_DATASET_ID,\n",
    "    POSTGRES_USER,\n",
    "    POSTGRES_PASSWORD,\n",
    "    POSTGRES_HOST,\n",
    "    POSTGRES_PORT,\n",
    "    POSTGRES_DB,\n",
    "    LOG_TO_CONSOLE,\n",
    ")\n",
    "from utils.logging import get_logger\n",
    "from utils.postgres import query_postgres, upload_to_table\n",
    "from utils.postgres_queries import most_similar_embeddings\n",
    "\n",
    "# Set up a logger for this notebook\n",
    "logger = get_logger(\"postgres_notebook\", log_to_console=LOG_TO_CONSOLE)"
   ]
  },
  {
   "cell_type": "markdown",
   "metadata": {},
   "source": [
    "Finally, I'll set up some Postgres connectors: "
   ]
  },
  {
   "cell_type": "code",
   "execution_count": 3,
   "metadata": {},
   "outputs": [],
   "source": [
    "# Create the connection string to the database\n",
    "postgres_connection_string = f\"postgresql://{POSTGRES_USER}:{POSTGRES_PASSWORD}@{POSTGRES_HOST}:{POSTGRES_PORT}/{POSTGRES_DB}\"\n",
    "\n",
    "# Create the connection engine\n",
    "engine = create_engine(postgres_connection_string)\n",
    "metadata = MetaData()\n",
    "session = sessionmaker(bind=engine)()\n",
    "Base = declarative_base()"
   ]
  },
  {
   "cell_type": "markdown",
   "metadata": {},
   "source": [
    "# **Query Experimentation**\n",
    "Below, I've collected some of my experiments with writing the API queries."
   ]
  },
  {
   "cell_type": "markdown",
   "metadata": {},
   "source": [
    "### Searching for Similar Embeddings\n",
    "The crux of this project: embedding arbitrary text, and then finding the most similar embeddings to that text."
   ]
  },
  {
   "cell_type": "code",
   "execution_count": 4,
   "metadata": {},
   "outputs": [
    {
     "data": {
      "text/html": [
       "<div>\n",
       "<style scoped>\n",
       "    .dataframe tbody tr th:only-of-type {\n",
       "        vertical-align: middle;\n",
       "    }\n",
       "\n",
       "    .dataframe tbody tr th {\n",
       "        vertical-align: top;\n",
       "    }\n",
       "\n",
       "    .dataframe thead th {\n",
       "        text-align: right;\n",
       "    }\n",
       "</style>\n",
       "<table border=\"1\" class=\"dataframe\">\n",
       "  <thead>\n",
       "    <tr style=\"text-align: right;\">\n",
       "      <th></th>\n",
       "      <th>id</th>\n",
       "      <th>url</th>\n",
       "      <th>embedding_type</th>\n",
       "      <th>start_segment</th>\n",
       "      <th>end_segment</th>\n",
       "      <th>segment_length</th>\n",
       "      <th>embedding</th>\n",
       "      <th>cos_sim</th>\n",
       "    </tr>\n",
       "  </thead>\n",
       "  <tbody>\n",
       "    <tr>\n",
       "      <th>0</th>\n",
       "      <td>uCX9A3xROQo_24_28</td>\n",
       "      <td>https://www.youtube.com/watch?v=uCX9A3xROQo</td>\n",
       "      <td>segment_chunk</td>\n",
       "      <td>24</td>\n",
       "      <td>28</td>\n",
       "      <td>4</td>\n",
       "      <td>[0.0030553022,0.03946543,-0.0013984011,0.01894...</td>\n",
       "      <td>1.0</td>\n",
       "    </tr>\n",
       "    <tr>\n",
       "      <th>1</th>\n",
       "      <td>uCX9A3xROQo_0_4</td>\n",
       "      <td>https://www.youtube.com/watch?v=uCX9A3xROQo</td>\n",
       "      <td>segment_chunk</td>\n",
       "      <td>0</td>\n",
       "      <td>4</td>\n",
       "      <td>4</td>\n",
       "      <td>[0.0030553022,0.03946543,-0.0013984011,0.01894...</td>\n",
       "      <td>1.0</td>\n",
       "    </tr>\n",
       "    <tr>\n",
       "      <th>2</th>\n",
       "      <td>uCX9A3xROQo_4_8</td>\n",
       "      <td>https://www.youtube.com/watch?v=uCX9A3xROQo</td>\n",
       "      <td>segment_chunk</td>\n",
       "      <td>4</td>\n",
       "      <td>8</td>\n",
       "      <td>4</td>\n",
       "      <td>[0.0030553022,0.03946543,-0.0013984011,0.01894...</td>\n",
       "      <td>1.0</td>\n",
       "    </tr>\n",
       "    <tr>\n",
       "      <th>3</th>\n",
       "      <td>uCX9A3xROQo_20_24</td>\n",
       "      <td>https://www.youtube.com/watch?v=uCX9A3xROQo</td>\n",
       "      <td>segment_chunk</td>\n",
       "      <td>20</td>\n",
       "      <td>24</td>\n",
       "      <td>4</td>\n",
       "      <td>[0.0030553022,0.03946543,-0.0013984011,0.01894...</td>\n",
       "      <td>1.0</td>\n",
       "    </tr>\n",
       "    <tr>\n",
       "      <th>4</th>\n",
       "      <td>uCX9A3xROQo_28_32</td>\n",
       "      <td>https://www.youtube.com/watch?v=uCX9A3xROQo</td>\n",
       "      <td>segment_chunk</td>\n",
       "      <td>28</td>\n",
       "      <td>32</td>\n",
       "      <td>4</td>\n",
       "      <td>[0.0030553022,0.03946543,-0.0013984011,0.01894...</td>\n",
       "      <td>1.0</td>\n",
       "    </tr>\n",
       "  </tbody>\n",
       "</table>\n",
       "</div>"
      ],
      "text/plain": [
       "                  id                                          url  \\\n",
       "0  uCX9A3xROQo_24_28  https://www.youtube.com/watch?v=uCX9A3xROQo   \n",
       "1    uCX9A3xROQo_0_4  https://www.youtube.com/watch?v=uCX9A3xROQo   \n",
       "2    uCX9A3xROQo_4_8  https://www.youtube.com/watch?v=uCX9A3xROQo   \n",
       "3  uCX9A3xROQo_20_24  https://www.youtube.com/watch?v=uCX9A3xROQo   \n",
       "4  uCX9A3xROQo_28_32  https://www.youtube.com/watch?v=uCX9A3xROQo   \n",
       "\n",
       "  embedding_type  start_segment  end_segment  segment_length  \\\n",
       "0  segment_chunk             24           28               4   \n",
       "1  segment_chunk              0            4               4   \n",
       "2  segment_chunk              4            8               4   \n",
       "3  segment_chunk             20           24               4   \n",
       "4  segment_chunk             28           32               4   \n",
       "\n",
       "                                           embedding  cos_sim  \n",
       "0  [0.0030553022,0.03946543,-0.0013984011,0.01894...      1.0  \n",
       "1  [0.0030553022,0.03946543,-0.0013984011,0.01894...      1.0  \n",
       "2  [0.0030553022,0.03946543,-0.0013984011,0.01894...      1.0  \n",
       "3  [0.0030553022,0.03946543,-0.0013984011,0.01894...      1.0  \n",
       "4  [0.0030553022,0.03946543,-0.0013984011,0.01894...      1.0  "
      ]
     },
     "execution_count": 4,
     "metadata": {},
     "output_type": "execute_result"
    }
   ],
   "source": [
    "# First: define the query, and then embed it\n",
    "query_text = \"Shredding guitar, heavy drums, and fast-paced vocals\"\n",
    "query_embedding = embed_text(query_text)\n",
    "\n",
    "# Now, get the most similar embeddings\n",
    "most_similar_embeddings(query_embedding, engine, n=5)"
   ]
  },
  {
   "cell_type": "markdown",
   "metadata": {},
   "source": [
    "### Retrieving Video Metadata\n",
    "In order to display some information about a video, I'll need a general method to search for a bunch of their data. Should probably allow for the fetching of various videos' data, too. "
   ]
  },
  {
   "cell_type": "code",
   "execution_count": null,
   "metadata": {},
   "outputs": [],
   "source": []
  },
  {
   "cell_type": "markdown",
   "metadata": {},
   "source": [
    "### Retrieving a Video's Transcript\n",
    "Another method will be retrieving a video's entire transcript!"
   ]
  },
  {
   "cell_type": "code",
   "execution_count": 10,
   "metadata": {},
   "outputs": [],
   "source": [
    "# Parameters\n",
    "video_id = \"uCX9A3xROQo\"\n",
    "video_url = f\"https://www.youtube.com/watch?v={video_id}\"\n",
    "\n",
    "# Define the SQL query\n",
    "sql_query = f\"\"\"\n",
    "    SELECT \n",
    "        transcription.*\n",
    "    FROM transcriptions  transcription\n",
    "    WHERE\n",
    "        url = '{video_url}'\n",
    "    ORDER BY \n",
    "        segment_id ASC\n",
    "\"\"\"\n",
    "\n",
    "# Execute the query\n",
    "df = query_postgres(sql_query, engine)\n",
    "\n",
    "def retrieve_video_transcript(video_id, engine, logger=None):\n",
    "    \"\"\"\"\"\""
   ]
  },
  {
   "cell_type": "code",
   "execution_count": null,
   "metadata": {},
   "outputs": [],
   "source": []
  },
  {
   "cell_type": "code",
   "execution_count": null,
   "metadata": {},
   "outputs": [],
   "source": []
  }
 ],
 "metadata": {
  "kernelspec": {
   "display_name": ".venv",
   "language": "python",
   "name": "python3"
  },
  "language_info": {
   "codemirror_mode": {
    "name": "ipython",
    "version": 3
   },
   "file_extension": ".py",
   "mimetype": "text/x-python",
   "name": "python",
   "nbconvert_exporter": "python",
   "pygments_lexer": "ipython3",
   "version": "3.11.0"
  }
 },
 "nbformat": 4,
 "nbformat_minor": 2
}
