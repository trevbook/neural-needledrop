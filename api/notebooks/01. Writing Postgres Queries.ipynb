{
 "cells": [
  {
   "cell_type": "markdown",
   "metadata": {},
   "source": [
    "# **Writing Postgres Queries**\n",
    "In order to write the API, I'll need a couple of different Postgres queries. I'll test them out throughout this notebook! "
   ]
  },
  {
   "cell_type": "markdown",
   "metadata": {},
   "source": [
    "# Setup\n",
    "The cells below will set up the rest of the notebook.\n",
    "\n",
    "I'll start by configuring the kernel: "
   ]
  },
  {
   "cell_type": "code",
   "execution_count": 1,
   "metadata": {},
   "outputs": [
    {
     "name": "stdout",
     "output_type": "stream",
     "text": [
      "d:\\data\\programming\\neural-needledrop\\api\n"
     ]
    }
   ],
   "source": [
    "# Change the working directory \n",
    "%cd ..\n",
    "\n",
    "# Enable the autoreload extension, which will automatically load in new code as it's written\n",
    "%load_ext autoreload\n",
    "%autoreload 2"
   ]
  },
  {
   "cell_type": "markdown",
   "metadata": {},
   "source": [
    "Now I'll import some necessary modules:"
   ]
  },
  {
   "cell_type": "code",
   "execution_count": 2,
   "metadata": {},
   "outputs": [],
   "source": [
    "# General import statements\n",
    "from sqlalchemy import create_engine, MetaData\n",
    "from sqlalchemy.orm import sessionmaker, declarative_base\n",
    "import datetime\n",
    "import pandas as pd\n",
    "\n",
    "# Importing custom modules\n",
    "from utils.openai import embed_text\n",
    "from utils.settings import (\n",
    "    POSTGRES_USER,\n",
    "    POSTGRES_PASSWORD,\n",
    "    POSTGRES_HOST,\n",
    "    POSTGRES_PORT,\n",
    "    POSTGRES_DB,\n",
    "    LOG_TO_CONSOLE,\n",
    ")\n",
    "from utils.logging import get_logger\n",
    "from utils.postgres import query_postgres\n",
    "import utils.postgres_queries as pg_queries\n",
    "\n",
    "# Set up a logger for this notebook\n",
    "logger = get_logger(\"postgres_notebook\", log_to_console=LOG_TO_CONSOLE)"
   ]
  },
  {
   "cell_type": "markdown",
   "metadata": {},
   "source": [
    "Finally, I'll set up some Postgres connectors: "
   ]
  },
  {
   "cell_type": "code",
   "execution_count": 3,
   "metadata": {},
   "outputs": [],
   "source": [
    "# Create the connection string to the database\n",
    "postgres_connection_string = f\"postgresql://{POSTGRES_USER}:{POSTGRES_PASSWORD}@{POSTGRES_HOST}:{POSTGRES_PORT}/{POSTGRES_DB}\"\n",
    "\n",
    "# Create the connection engine\n",
    "engine = create_engine(postgres_connection_string)\n",
    "metadata = MetaData()\n",
    "session = sessionmaker(bind=engine)()\n",
    "Base = declarative_base()"
   ]
  },
  {
   "cell_type": "markdown",
   "metadata": {},
   "source": [
    "# **Query Experimentation**\n",
    "Below, I've collected some of my experiments with writing the API queries."
   ]
  },
  {
   "cell_type": "markdown",
   "metadata": {},
   "source": [
    "### Searching for Similar Embeddings\n",
    "The crux of this project: embedding arbitrary text, and then finding the most similar embeddings to that text."
   ]
  },
  {
   "cell_type": "code",
   "execution_count": 4,
   "metadata": {},
   "outputs": [
    {
     "data": {
      "text/html": [
       "<div>\n",
       "<style scoped>\n",
       "    .dataframe tbody tr th:only-of-type {\n",
       "        vertical-align: middle;\n",
       "    }\n",
       "\n",
       "    .dataframe tbody tr th {\n",
       "        vertical-align: top;\n",
       "    }\n",
       "\n",
       "    .dataframe thead th {\n",
       "        text-align: right;\n",
       "    }\n",
       "</style>\n",
       "<table border=\"1\" class=\"dataframe\">\n",
       "  <thead>\n",
       "    <tr style=\"text-align: right;\">\n",
       "      <th></th>\n",
       "      <th>id</th>\n",
       "      <th>url</th>\n",
       "      <th>embedding_type</th>\n",
       "      <th>start_segment</th>\n",
       "      <th>end_segment</th>\n",
       "      <th>segment_length</th>\n",
       "      <th>embedding</th>\n",
       "      <th>cos_sim</th>\n",
       "    </tr>\n",
       "  </thead>\n",
       "  <tbody>\n",
       "    <tr>\n",
       "      <th>0</th>\n",
       "      <td>CPVjp0i3WPQ_76_80</td>\n",
       "      <td>https://www.youtube.com/watch?v=CPVjp0i3WPQ</td>\n",
       "      <td>segment_chunk</td>\n",
       "      <td>76</td>\n",
       "      <td>80</td>\n",
       "      <td>4</td>\n",
       "      <td>[0.0057957903,0.0022525394,-0.031274926,0.0077...</td>\n",
       "      <td>-0.179340</td>\n",
       "    </tr>\n",
       "    <tr>\n",
       "      <th>1</th>\n",
       "      <td>CeqFUpfTZOM_0_8</td>\n",
       "      <td>https://www.youtube.com/watch?v=CeqFUpfTZOM</td>\n",
       "      <td>segment_chunk</td>\n",
       "      <td>0</td>\n",
       "      <td>8</td>\n",
       "      <td>8</td>\n",
       "      <td>[0.04532378,-0.038371727,-0.058565788,0.005624...</td>\n",
       "      <td>-0.183103</td>\n",
       "    </tr>\n",
       "    <tr>\n",
       "      <th>2</th>\n",
       "      <td>C08ZLI-JjSg_96_104</td>\n",
       "      <td>https://www.youtube.com/watch?v=C08ZLI-JjSg</td>\n",
       "      <td>segment_chunk</td>\n",
       "      <td>96</td>\n",
       "      <td>104</td>\n",
       "      <td>8</td>\n",
       "      <td>[0.022653446,-0.005142732,-0.042279977,0.04552...</td>\n",
       "      <td>-0.189034</td>\n",
       "    </tr>\n",
       "    <tr>\n",
       "      <th>3</th>\n",
       "      <td>C08ZLI-JjSg_84_88</td>\n",
       "      <td>https://www.youtube.com/watch?v=C08ZLI-JjSg</td>\n",
       "      <td>segment_chunk</td>\n",
       "      <td>84</td>\n",
       "      <td>88</td>\n",
       "      <td>4</td>\n",
       "      <td>[0.022653446,-0.005142732,-0.042279977,0.04552...</td>\n",
       "      <td>-0.189034</td>\n",
       "    </tr>\n",
       "    <tr>\n",
       "      <th>4</th>\n",
       "      <td>Cb3vfW2MRMY_16_24</td>\n",
       "      <td>https://www.youtube.com/watch?v=Cb3vfW2MRMY</td>\n",
       "      <td>segment_chunk</td>\n",
       "      <td>16</td>\n",
       "      <td>24</td>\n",
       "      <td>8</td>\n",
       "      <td>[-0.013333404,0.03703987,-0.021140829,-0.02033...</td>\n",
       "      <td>-0.195559</td>\n",
       "    </tr>\n",
       "  </tbody>\n",
       "</table>\n",
       "</div>"
      ],
      "text/plain": [
       "                   id                                          url  \\\n",
       "0   CPVjp0i3WPQ_76_80  https://www.youtube.com/watch?v=CPVjp0i3WPQ   \n",
       "1     CeqFUpfTZOM_0_8  https://www.youtube.com/watch?v=CeqFUpfTZOM   \n",
       "2  C08ZLI-JjSg_96_104  https://www.youtube.com/watch?v=C08ZLI-JjSg   \n",
       "3   C08ZLI-JjSg_84_88  https://www.youtube.com/watch?v=C08ZLI-JjSg   \n",
       "4   Cb3vfW2MRMY_16_24  https://www.youtube.com/watch?v=Cb3vfW2MRMY   \n",
       "\n",
       "  embedding_type  start_segment  end_segment  segment_length  \\\n",
       "0  segment_chunk             76           80               4   \n",
       "1  segment_chunk              0            8               8   \n",
       "2  segment_chunk             96          104               8   \n",
       "3  segment_chunk             84           88               4   \n",
       "4  segment_chunk             16           24               8   \n",
       "\n",
       "                                           embedding   cos_sim  \n",
       "0  [0.0057957903,0.0022525394,-0.031274926,0.0077... -0.179340  \n",
       "1  [0.04532378,-0.038371727,-0.058565788,0.005624... -0.183103  \n",
       "2  [0.022653446,-0.005142732,-0.042279977,0.04552... -0.189034  \n",
       "3  [0.022653446,-0.005142732,-0.042279977,0.04552... -0.189034  \n",
       "4  [-0.013333404,0.03703987,-0.021140829,-0.02033... -0.195559  "
      ]
     },
     "execution_count": 4,
     "metadata": {},
     "output_type": "execute_result"
    }
   ],
   "source": [
    "# First: define the query, and then embed it\n",
    "query_text = \"Shredding guitar, heavy drums, and fast-paced vocals\"\n",
    "query_embedding = embed_text(query_text)\n",
    "\n",
    "# Now, get the most similar embeddings\n",
    "most_similar_embeddings_df = pg_queries.most_similar_embeddings(query_embedding, engine, n=5)\n",
    "\n",
    "# Show this DataFrame\n",
    "most_similar_embeddings_df"
   ]
  },
  {
   "cell_type": "markdown",
   "metadata": {},
   "source": [
    "### Retrieving Video Metadata\n",
    "In order to display some information about a video, I'll need a general method to search for a bunch of their data. Should probably allow for the fetching of various videos' data, too. "
   ]
  },
  {
   "cell_type": "code",
   "execution_count": 5,
   "metadata": {},
   "outputs": [
    {
     "data": {
      "text/html": [
       "<div>\n",
       "<style scoped>\n",
       "    .dataframe tbody tr th:only-of-type {\n",
       "        vertical-align: middle;\n",
       "    }\n",
       "\n",
       "    .dataframe tbody tr th {\n",
       "        vertical-align: top;\n",
       "    }\n",
       "\n",
       "    .dataframe thead th {\n",
       "        text-align: right;\n",
       "    }\n",
       "</style>\n",
       "<table border=\"1\" class=\"dataframe\">\n",
       "  <thead>\n",
       "    <tr style=\"text-align: right;\">\n",
       "      <th></th>\n",
       "      <th>id</th>\n",
       "      <th>title</th>\n",
       "      <th>length</th>\n",
       "      <th>channel_id</th>\n",
       "      <th>channel_name</th>\n",
       "      <th>short_description</th>\n",
       "      <th>description</th>\n",
       "      <th>view_ct</th>\n",
       "      <th>url</th>\n",
       "      <th>small_thumbnail_url</th>\n",
       "      <th>large_thumbnail_url</th>\n",
       "      <th>video_type</th>\n",
       "      <th>review_score</th>\n",
       "      <th>publish_date</th>\n",
       "      <th>scrape_date</th>\n",
       "    </tr>\n",
       "  </thead>\n",
       "  <tbody>\n",
       "  </tbody>\n",
       "</table>\n",
       "</div>"
      ],
      "text/plain": [
       "Empty DataFrame\n",
       "Columns: [id, title, length, channel_id, channel_name, short_description, description, view_ct, url, small_thumbnail_url, large_thumbnail_url, video_type, review_score, publish_date, scrape_date]\n",
       "Index: []"
      ]
     },
     "execution_count": 5,
     "metadata": {},
     "output_type": "execute_result"
    }
   ],
   "source": [
    "# Determine the IDs of the song we want video metadata for\n",
    "song_ids = [\"uCX9A3xROQo\"]\n",
    "\n",
    "# Get the video metadata for these songs\n",
    "video_metadata_df = pg_queries.retrieve_multiple_video_metadata([\"uCX9A3xROQo\"], engine)\n",
    "\n",
    "video_metadata_df"
   ]
  },
  {
   "cell_type": "markdown",
   "metadata": {},
   "source": [
    "### Retrieving a Video's Transcript\n",
    "Another method will be retrieving a video's entire transcript!"
   ]
  },
  {
   "cell_type": "code",
   "execution_count": 6,
   "metadata": {},
   "outputs": [
    {
     "data": {
      "text/html": [
       "<div>\n",
       "<style scoped>\n",
       "    .dataframe tbody tr th:only-of-type {\n",
       "        vertical-align: middle;\n",
       "    }\n",
       "\n",
       "    .dataframe tbody tr th {\n",
       "        vertical-align: top;\n",
       "    }\n",
       "\n",
       "    .dataframe thead th {\n",
       "        text-align: right;\n",
       "    }\n",
       "</style>\n",
       "<table border=\"1\" class=\"dataframe\">\n",
       "  <thead>\n",
       "    <tr style=\"text-align: right;\">\n",
       "      <th></th>\n",
       "      <th>url</th>\n",
       "      <th>text</th>\n",
       "      <th>segment_id</th>\n",
       "      <th>segment_seek</th>\n",
       "      <th>segment_start</th>\n",
       "      <th>segment_end</th>\n",
       "      <th>video_id</th>\n",
       "    </tr>\n",
       "  </thead>\n",
       "  <tbody>\n",
       "  </tbody>\n",
       "</table>\n",
       "</div>"
      ],
      "text/plain": [
       "Empty DataFrame\n",
       "Columns: [url, text, segment_id, segment_seek, segment_start, segment_end, video_id]\n",
       "Index: []"
      ]
     },
     "execution_count": 6,
     "metadata": {},
     "output_type": "execute_result"
    }
   ],
   "source": [
    "# Determining the ID of the video we want the transcript for\n",
    "video_id = \"uCX9A3xROQo\"\n",
    "\n",
    "# Query for the entire transcript\n",
    "video_transcript_df = pg_queries.retrieve_multiple_video_transcripts([\"uCX9A3xROQo\"], engine)\n",
    "\n",
    "video_transcript_df"
   ]
  },
  {
   "cell_type": "markdown",
   "metadata": {},
   "source": [
    "### Searching for Similar Embeddings (Filtered Options)\n",
    "Below, I'm going to write a method to search for similar embeddings (over a filtered set of videos).\n"
   ]
  },
  {
   "cell_type": "code",
   "execution_count": 34,
   "metadata": {},
   "outputs": [
    {
     "data": {
      "text/html": [
       "<div>\n",
       "<style scoped>\n",
       "    .dataframe tbody tr th:only-of-type {\n",
       "        vertical-align: middle;\n",
       "    }\n",
       "\n",
       "    .dataframe tbody tr th {\n",
       "        vertical-align: top;\n",
       "    }\n",
       "\n",
       "    .dataframe thead th {\n",
       "        text-align: right;\n",
       "    }\n",
       "</style>\n",
       "<table border=\"1\" class=\"dataframe\">\n",
       "  <thead>\n",
       "    <tr style=\"text-align: right;\">\n",
       "      <th></th>\n",
       "      <th>id</th>\n",
       "      <th>url</th>\n",
       "      <th>embedding_type</th>\n",
       "      <th>start_segment</th>\n",
       "      <th>end_segment</th>\n",
       "      <th>segment_length</th>\n",
       "      <th>embedding</th>\n",
       "      <th>cos_sim</th>\n",
       "      <th>text</th>\n",
       "    </tr>\n",
       "  </thead>\n",
       "  <tbody>\n",
       "    <tr>\n",
       "      <th>0</th>\n",
       "      <td>dCdMYNbK8Vs_48_52</td>\n",
       "      <td>https://www.youtube.com/watch?v=dCdMYNbK8Vs</td>\n",
       "      <td>segment_chunk</td>\n",
       "      <td>48</td>\n",
       "      <td>52</td>\n",
       "      <td>4</td>\n",
       "      <td>[-0.0062035797,-0.0024234902,0.0007060562,-0.0...</td>\n",
       "      <td>0.546421</td>\n",
       "      <td>title thanks to a grand upward, mobile musical...</td>\n",
       "    </tr>\n",
       "    <tr>\n",
       "      <th>1</th>\n",
       "      <td>dCdMYNbK8Vs_40_48</td>\n",
       "      <td>https://www.youtube.com/watch?v=dCdMYNbK8Vs</td>\n",
       "      <td>segment_chunk</td>\n",
       "      <td>40</td>\n",
       "      <td>48</td>\n",
       "      <td>8</td>\n",
       "      <td>[-0.009083154,0.012684595,-0.005445553,-0.0252...</td>\n",
       "      <td>0.477517</td>\n",
       "      <td>tiny string and piano embellishments orbit aro...</td>\n",
       "    </tr>\n",
       "    <tr>\n",
       "      <th>2</th>\n",
       "      <td>cS0bI-chYN8_32_36</td>\n",
       "      <td>https://www.youtube.com/watch?v=cS0bI-chYN8</td>\n",
       "      <td>segment_chunk</td>\n",
       "      <td>32</td>\n",
       "      <td>36</td>\n",
       "      <td>4</td>\n",
       "      <td>[0.011554193,0.013490616,-0.009588517,-0.00783...</td>\n",
       "      <td>0.411181</td>\n",
       "      <td>Benjamin's vocal delivery is stunning, and the...</td>\n",
       "    </tr>\n",
       "    <tr>\n",
       "      <th>3</th>\n",
       "      <td>CEpKouCO6L8_64_72</td>\n",
       "      <td>https://www.youtube.com/watch?v=CEpKouCO6L8</td>\n",
       "      <td>segment_chunk</td>\n",
       "      <td>64</td>\n",
       "      <td>72</td>\n",
       "      <td>8</td>\n",
       "      <td>[0.01007167,0.046383973,0.0017122536,-0.037335...</td>\n",
       "      <td>0.404509</td>\n",
       "      <td>again dramatic, our paginated guitar chords. A...</td>\n",
       "    </tr>\n",
       "    <tr>\n",
       "      <th>4</th>\n",
       "      <td>CEpKouCO6L8_32_36</td>\n",
       "      <td>https://www.youtube.com/watch?v=CEpKouCO6L8</td>\n",
       "      <td>segment_chunk</td>\n",
       "      <td>32</td>\n",
       "      <td>36</td>\n",
       "      <td>4</td>\n",
       "      <td>[0.026274744,0.031433225,-0.0072821644,-0.0244...</td>\n",
       "      <td>0.396319</td>\n",
       "      <td>The band starts with nothing but feverish riff...</td>\n",
       "    </tr>\n",
       "    <tr>\n",
       "      <th>...</th>\n",
       "      <td>...</td>\n",
       "      <td>...</td>\n",
       "      <td>...</td>\n",
       "      <td>...</td>\n",
       "      <td>...</td>\n",
       "      <td>...</td>\n",
       "      <td>...</td>\n",
       "      <td>...</td>\n",
       "      <td>...</td>\n",
       "    </tr>\n",
       "    <tr>\n",
       "      <th>95</th>\n",
       "      <td>CS4HP_-HEdI_16_20</td>\n",
       "      <td>https://www.youtube.com/watch?v=CS4HP_-HEdI</td>\n",
       "      <td>segment_chunk</td>\n",
       "      <td>16</td>\n",
       "      <td>20</td>\n",
       "      <td>4</td>\n",
       "      <td>[-0.0030135568,-0.033237662,-0.012565778,-0.01...</td>\n",
       "      <td>0.296571</td>\n",
       "      <td>It starts right from the get-go on the track, ...</td>\n",
       "    </tr>\n",
       "    <tr>\n",
       "      <th>96</th>\n",
       "      <td>cDpIC-MaY4Y_56_64</td>\n",
       "      <td>https://www.youtube.com/watch?v=cDpIC-MaY4Y</td>\n",
       "      <td>segment_chunk</td>\n",
       "      <td>56</td>\n",
       "      <td>64</td>\n",
       "      <td>8</td>\n",
       "      <td>[0.029437153,-0.006786369,-0.031319603,-0.0348...</td>\n",
       "      <td>0.296556</td>\n",
       "      <td>I think sort of putting all this atmosphere in...</td>\n",
       "    </tr>\n",
       "    <tr>\n",
       "      <th>97</th>\n",
       "      <td>cDpIC-MaY4Y_52_56</td>\n",
       "      <td>https://www.youtube.com/watch?v=cDpIC-MaY4Y</td>\n",
       "      <td>segment_chunk</td>\n",
       "      <td>52</td>\n",
       "      <td>56</td>\n",
       "      <td>4</td>\n",
       "      <td>[-0.0076610213,-0.006021503,-0.033267315,-0.02...</td>\n",
       "      <td>0.296219</td>\n",
       "      <td>The song is good. Melodies great. Vocals are s...</td>\n",
       "    </tr>\n",
       "    <tr>\n",
       "      <th>98</th>\n",
       "      <td>CCJZO4I2SS8_32_36</td>\n",
       "      <td>https://www.youtube.com/watch?v=CCJZO4I2SS8</td>\n",
       "      <td>segment_chunk</td>\n",
       "      <td>32</td>\n",
       "      <td>36</td>\n",
       "      <td>4</td>\n",
       "      <td>[0.03816223,0.03799007,0.0060865893,-0.0205444...</td>\n",
       "      <td>0.295856</td>\n",
       "      <td>point where it lost its appeal. Not only that,...</td>\n",
       "    </tr>\n",
       "    <tr>\n",
       "      <th>99</th>\n",
       "      <td>CB-HKdkM7hg_32_36</td>\n",
       "      <td>https://www.youtube.com/watch?v=CB-HKdkM7hg</td>\n",
       "      <td>segment_chunk</td>\n",
       "      <td>32</td>\n",
       "      <td>36</td>\n",
       "      <td>4</td>\n",
       "      <td>[0.019053899,0.06101835,-0.020229533,-0.026967...</td>\n",
       "      <td>0.295664</td>\n",
       "      <td>Maybe a flood here, a very slightly off-note t...</td>\n",
       "    </tr>\n",
       "  </tbody>\n",
       "</table>\n",
       "<p>100 rows × 9 columns</p>\n",
       "</div>"
      ],
      "text/plain": [
       "                   id                                          url  \\\n",
       "0   dCdMYNbK8Vs_48_52  https://www.youtube.com/watch?v=dCdMYNbK8Vs   \n",
       "1   dCdMYNbK8Vs_40_48  https://www.youtube.com/watch?v=dCdMYNbK8Vs   \n",
       "2   cS0bI-chYN8_32_36  https://www.youtube.com/watch?v=cS0bI-chYN8   \n",
       "3   CEpKouCO6L8_64_72  https://www.youtube.com/watch?v=CEpKouCO6L8   \n",
       "4   CEpKouCO6L8_32_36  https://www.youtube.com/watch?v=CEpKouCO6L8   \n",
       "..                ...                                          ...   \n",
       "95  CS4HP_-HEdI_16_20  https://www.youtube.com/watch?v=CS4HP_-HEdI   \n",
       "96  cDpIC-MaY4Y_56_64  https://www.youtube.com/watch?v=cDpIC-MaY4Y   \n",
       "97  cDpIC-MaY4Y_52_56  https://www.youtube.com/watch?v=cDpIC-MaY4Y   \n",
       "98  CCJZO4I2SS8_32_36  https://www.youtube.com/watch?v=CCJZO4I2SS8   \n",
       "99  CB-HKdkM7hg_32_36  https://www.youtube.com/watch?v=CB-HKdkM7hg   \n",
       "\n",
       "   embedding_type  start_segment  end_segment  segment_length  \\\n",
       "0   segment_chunk             48           52               4   \n",
       "1   segment_chunk             40           48               8   \n",
       "2   segment_chunk             32           36               4   \n",
       "3   segment_chunk             64           72               8   \n",
       "4   segment_chunk             32           36               4   \n",
       "..            ...            ...          ...             ...   \n",
       "95  segment_chunk             16           20               4   \n",
       "96  segment_chunk             56           64               8   \n",
       "97  segment_chunk             52           56               4   \n",
       "98  segment_chunk             32           36               4   \n",
       "99  segment_chunk             32           36               4   \n",
       "\n",
       "                                            embedding   cos_sim  \\\n",
       "0   [-0.0062035797,-0.0024234902,0.0007060562,-0.0...  0.546421   \n",
       "1   [-0.009083154,0.012684595,-0.005445553,-0.0252...  0.477517   \n",
       "2   [0.011554193,0.013490616,-0.009588517,-0.00783...  0.411181   \n",
       "3   [0.01007167,0.046383973,0.0017122536,-0.037335...  0.404509   \n",
       "4   [0.026274744,0.031433225,-0.0072821644,-0.0244...  0.396319   \n",
       "..                                                ...       ...   \n",
       "95  [-0.0030135568,-0.033237662,-0.012565778,-0.01...  0.296571   \n",
       "96  [0.029437153,-0.006786369,-0.031319603,-0.0348...  0.296556   \n",
       "97  [-0.0076610213,-0.006021503,-0.033267315,-0.02...  0.296219   \n",
       "98  [0.03816223,0.03799007,0.0060865893,-0.0205444...  0.295856   \n",
       "99  [0.019053899,0.06101835,-0.020229533,-0.026967...  0.295664   \n",
       "\n",
       "                                                 text  \n",
       "0   title thanks to a grand upward, mobile musical...  \n",
       "1   tiny string and piano embellishments orbit aro...  \n",
       "2   Benjamin's vocal delivery is stunning, and the...  \n",
       "3   again dramatic, our paginated guitar chords. A...  \n",
       "4   The band starts with nothing but feverish riff...  \n",
       "..                                                ...  \n",
       "95  It starts right from the get-go on the track, ...  \n",
       "96  I think sort of putting all this atmosphere in...  \n",
       "97  The song is good. Melodies great. Vocals are s...  \n",
       "98  point where it lost its appeal. Not only that,...  \n",
       "99  Maybe a flood here, a very slightly off-note t...  \n",
       "\n",
       "[100 rows x 9 columns]"
      ]
     },
     "execution_count": 34,
     "metadata": {},
     "output_type": "execute_result"
    }
   ],
   "source": [
    "# Parameterize the search\n",
    "# release_date_filter = [datetime.datetime(2023, 1, 1), datetime.datetime(2024, 6, 1)]\n",
    "# video_type_filter = [\"album_review\", \"mixtape_review\"]\n",
    "# review_score_filter = None\n",
    "\n",
    "# Run the most_similar_embeddings_filtered from the postgres_queries module\n",
    "most_similar_embeddings_filtered_df = (\n",
    "    pg_queries.most_similar_embeddings_to_text_filtered(\n",
    "        text=\"tiny string piano embellishment\",\n",
    "        engine=engine,\n",
    "        n=100,\n",
    "        # release_date_filter=release_date_filter,\n",
    "        # video_type_filter=video_type_filter,\n",
    "        # review_score_filter=review_score_filter,\n",
    "        include_text=True,\n",
    "    )\n",
    ")\n",
    "\n",
    "# Show the DataFrame\n",
    "most_similar_embeddings_filtered_df"
   ]
  },
  {
   "cell_type": "code",
   "execution_count": 28,
   "metadata": {},
   "outputs": [],
   "source": [
    "most_sim_emb = most_similar_embeddings_filtered_df.iloc[0].embedding"
   ]
  },
  {
   "cell_type": "code",
   "execution_count": 33,
   "metadata": {},
   "outputs": [
    {
     "data": {
      "text/plain": [
       "'title thanks to a grand upward, mobile musical ascent marked by crashing drums, buzzing guitar chords and when the instrumental chaos clears, Mark hits upon these vocal lines that sound like parts saxophone, part premonition of what a quarter of all alt rock singers would sound like for the next 10 years or at least what they would try to sound like but fail miserably. The jazzy upright'"
      ]
     },
     "execution_count": 33,
     "metadata": {},
     "output_type": "execute_result"
    }
   ],
   "source": [
    "most_similar_embeddings_filtered_df.iloc[0].text"
   ]
  },
  {
   "cell_type": "code",
   "execution_count": 29,
   "metadata": {},
   "outputs": [],
   "source": [
    "from utils.openai import embed_text"
   ]
  },
  {
   "cell_type": "code",
   "execution_count": 30,
   "metadata": {},
   "outputs": [],
   "source": [
    "other_emb = embed_text(\"tiny string piano embellishment\")"
   ]
  },
  {
   "cell_type": "code",
   "execution_count": 31,
   "metadata": {},
   "outputs": [],
   "source": [
    "# Parse the string list into a list of floats using ast\n",
    "import ast\n",
    "most_sim_emb = ast.literal_eval(most_sim_emb)"
   ]
  },
  {
   "cell_type": "code",
   "execution_count": 32,
   "metadata": {},
   "outputs": [
    {
     "name": "stdout",
     "output_type": "stream",
     "text": [
      "Cosine Similarity:  0.5464692687906129\n"
     ]
    }
   ],
   "source": [
    "from numpy import dot\n",
    "from numpy.linalg import norm\n",
    "\n",
    "def cosine_similarity(a,b):\n",
    "    cos_sim = dot(a, b)/(norm(a)*norm(b))\n",
    "    return cos_sim\n",
    "\n",
    "cos_sim = cosine_similarity(most_sim_emb, other_emb)\n",
    "print(\"Cosine Similarity: \", cos_sim)\n"
   ]
  },
  {
   "cell_type": "code",
   "execution_count": null,
   "metadata": {},
   "outputs": [],
   "source": []
  }
 ],
 "metadata": {
  "kernelspec": {
   "display_name": ".venv",
   "language": "python",
   "name": "python3"
  },
  "language_info": {
   "codemirror_mode": {
    "name": "ipython",
    "version": 3
   },
   "file_extension": ".py",
   "mimetype": "text/x-python",
   "name": "python",
   "nbconvert_exporter": "python",
   "pygments_lexer": "ipython3",
   "version": "3.11.0"
  }
 },
 "nbformat": 4,
 "nbformat_minor": 2
}
