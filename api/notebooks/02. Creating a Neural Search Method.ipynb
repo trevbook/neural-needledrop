{
 "cells": [
  {
   "cell_type": "markdown",
   "metadata": {},
   "source": [
    "# **Creating a Neural Search Method**\n",
    "Now that I've got some helpful methods within the **`01. Writing Postgres Queries`** notebook, I can spend some time writing a \"neural search\" method. This will be used for the API. "
   ]
  },
  {
   "cell_type": "markdown",
   "metadata": {},
   "source": [
    "# Setup\n",
    "The cells below will set up the rest of the notebook.\n",
    "\n",
    "I'll start by configuring the kernel: "
   ]
  },
  {
   "cell_type": "code",
   "execution_count": 1,
   "metadata": {},
   "outputs": [
    {
     "name": "stdout",
     "output_type": "stream",
     "text": [
      "d:\\data\\programming\\neural-needledrop\\api\n"
     ]
    }
   ],
   "source": [
    "# Change the working directory \n",
    "%cd ..\n",
    "\n",
    "# Enable the autoreload extension, which will automatically load in new code as it's written\n",
    "%load_ext autoreload\n",
    "%autoreload 2"
   ]
  },
  {
   "cell_type": "markdown",
   "metadata": {},
   "source": [
    "Now I'll import some necessary modules:"
   ]
  },
  {
   "cell_type": "code",
   "execution_count": 2,
   "metadata": {},
   "outputs": [],
   "source": [
    "# General import statements\n",
    "import pandas as pd\n",
    "import datetime\n",
    "from IPython.display import Markdown, display\n",
    "\n",
    "# Importing custom modules\n",
    "from utils.settings import (\n",
    "    POSTGRES_USER,\n",
    "    POSTGRES_PASSWORD,\n",
    "    POSTGRES_HOST,\n",
    "    POSTGRES_PORT,\n",
    "    POSTGRES_DB,\n",
    ")\n",
    "import utils.postgres_queries as pg_queries\n",
    "import utils.postgres as postgres\n",
    "from sqlalchemy import create_engine, MetaData\n",
    "from sqlalchemy.orm import sessionmaker, declarative_base"
   ]
  },
  {
   "cell_type": "markdown",
   "metadata": {},
   "source": [
    "I'll also set up my connection to the Postgres server: "
   ]
  },
  {
   "cell_type": "code",
   "execution_count": 3,
   "metadata": {},
   "outputs": [],
   "source": [
    "# Create the connection string to the database\n",
    "postgres_connection_string = f\"postgresql://{POSTGRES_USER}:{POSTGRES_PASSWORD}@{POSTGRES_HOST}:{POSTGRES_PORT}/{POSTGRES_DB}\"\n",
    "\n",
    "# Create the connection engine\n",
    "engine = create_engine(postgres_connection_string)\n",
    "metadata = MetaData()\n",
    "session = sessionmaker(bind=engine)()\n",
    "Base = declarative_base()"
   ]
  },
  {
   "cell_type": "markdown",
   "metadata": {},
   "source": [
    "# **Prototyping Neural Search**\n",
    "Below, I'm going to prototype a search method. \n",
    "\n",
    "I'll start by parameterizing the search:"
   ]
  },
  {
   "cell_type": "code",
   "execution_count": 18,
   "metadata": {},
   "outputs": [],
   "source": [
    "# Parameterize the search\n",
    "query = \"Love Me Forever, which was a very nice, airy, euphoric ballad, is just a minute and change\"\n",
    "release_date_filter = [datetime.datetime(2010, 1, 1), datetime.datetime(2024, 6, 1)]\n",
    "video_type_filter = [\"album_review\", \"mixtape_review\"]\n",
    "review_score_filter = [8, 10]\n",
    "\n",
    "# Extra parameters\n",
    "n_chunks_to_consider_initially = 250\n",
    "n_most_similar_chunks_per_video = 10\n",
    "n_videos_to_return = 10\n",
    "n_segment_chunks_to_showcase = 3"
   ]
  },
  {
   "cell_type": "markdown",
   "metadata": {},
   "source": [
    "Now, I'll try and identify the most similar segments:"
   ]
  },
  {
   "cell_type": "code",
   "execution_count": 19,
   "metadata": {},
   "outputs": [],
   "source": [
    "# Run the query\n",
    "similar_chunks_df = pg_queries.most_similar_embeddings_to_text_filtered(\n",
    "    text=query,\n",
    "    engine=engine,\n",
    "    n=n_chunks_to_consider_initially,\n",
    "    release_date_filter=release_date_filter,\n",
    "    video_type_filter=video_type_filter,\n",
    "    review_score_filter=review_score_filter,\n",
    "    include_text=True,\n",
    ")"
   ]
  },
  {
   "cell_type": "markdown",
   "metadata": {},
   "source": [
    "With this in hand, I want to aggregate across a bunch of videos, and try to determine which video has the highest scores."
   ]
  },
  {
   "cell_type": "code",
   "execution_count": 20,
   "metadata": {},
   "outputs": [],
   "source": [
    "# Groupby `url`, and take the top `n_most_similar_chunks_per_video` chunks per video\n",
    "aggregated_similar_chunks_df = similar_chunks_df.groupby(\"url\").head(\n",
    "    n_most_similar_chunks_per_video\n",
    ")\n",
    "\n",
    "# Aggregate the similarity statistics\n",
    "aggregated_similar_chunks_df = (\n",
    "    aggregated_similar_chunks_df.groupby(\"url\")\n",
    "    .agg(\n",
    "        median_similarity=(\"cos_sim\", \"median\"),\n",
    "        n_similar_chunks=(\"cos_sim\", \"count\"),\n",
    "    )\n",
    "    .reset_index()\n",
    ")\n",
    "\n",
    "# Add a weighted median similarity column\n",
    "aggregated_similar_chunks_df[\"weighted_median_similarity\"] = (\n",
    "    aggregated_similar_chunks_df[\"median_similarity\"]\n",
    "    * aggregated_similar_chunks_df[\"n_similar_chunks\"]\n",
    ")\n",
    "\n",
    "# Sort by the weighted median similarity\n",
    "aggregated_similar_chunks_df = aggregated_similar_chunks_df.sort_values(\n",
    "    \"weighted_median_similarity\", ascending=False\n",
    ").head(n_videos_to_return)"
   ]
  },
  {
   "cell_type": "markdown",
   "metadata": {},
   "source": [
    "Now, we're going to get some metadata about each video back. This will involve uploading a temporary table to Postgres, and then joining it to the `video_metadata` table:"
   ]
  },
  {
   "cell_type": "code",
   "execution_count": 21,
   "metadata": {},
   "outputs": [],
   "source": [
    "# Create a temporary table called `temp_similar_chunks` that is the aggregated_similar_chunks_df DataFrame\n",
    "with engine.connect() as conn:\n",
    "    aggregated_similar_chunks_df.to_sql(\n",
    "        \"temp_similar_chunks\", conn, if_exists=\"replace\", index=False\n",
    "    )\n",
    "\n",
    "# Now, select the entire `video_metadata` table for each of the videos in the `temp_similar_chunks` table\n",
    "similar_chunks_video_metadata_df = postgres.query_postgres(\n",
    "    \"\"\"\n",
    "    SELECT \n",
    "        video_metadata.*, \n",
    "        temp_similar_chunks.median_similarity, \n",
    "        temp_similar_chunks.n_similar_chunks, \n",
    "        temp_similar_chunks.weighted_median_similarity\n",
    "    FROM video_metadata\n",
    "    JOIN temp_similar_chunks\n",
    "    ON video_metadata.url = temp_similar_chunks.url\n",
    "    ORDER BY temp_similar_chunks.weighted_median_similarity DESC\n",
    "    \"\"\",\n",
    "    engine=engine,\n",
    ")"
   ]
  },
  {
   "cell_type": "markdown",
   "metadata": {},
   "source": [
    "Finally, we're going to prepare our results. This will just be the `similar_chunks_video_metadata_df`, except also containing the `n_segment_chunks_to_showcase` most similar segment chunks per video. "
   ]
  },
  {
   "cell_type": "code",
   "execution_count": 22,
   "metadata": {},
   "outputs": [],
   "source": [
    "# Create a DataFrame containing the segment chunks I want to showcase\n",
    "segment_chunks_to_showcase_df = (\n",
    "    (\n",
    "        similar_chunks_df[\n",
    "            similar_chunks_df[\"url\"].isin(\n",
    "                similar_chunks_video_metadata_df[\"url\"].unique()\n",
    "            )\n",
    "        ]\n",
    "        .sort_values(\"cos_sim\", ascending=False)\n",
    "        .groupby(\"url\")\n",
    "        .head(n_segment_chunks_to_showcase)\n",
    "        .sort_values([\"url\", \"cos_sim\"], ascending=False)\n",
    "    )\n",
    "    .groupby(\"url\")\n",
    "    .agg(\n",
    "        top_segment_chunks=(\"text\", lambda x: list(x)),\n",
    "    )\n",
    "    .reset_index()\n",
    ")\n",
    "\n",
    "# Merge this DataFrame with the video metadata\n",
    "segment_chunks_to_showcase_df = segment_chunks_to_showcase_df.merge(\n",
    "    similar_chunks_video_metadata_df, on=\"url\"\n",
    ").sort_values(\"weighted_median_similarity\", ascending=False)"
   ]
  },
  {
   "cell_type": "markdown",
   "metadata": {},
   "source": [
    "Now, I'm going to print the results using some nice formatting:"
   ]
  },
  {
   "cell_type": "code",
   "execution_count": 25,
   "metadata": {},
   "outputs": [
    {
     "data": {
      "text/markdown": [
       "**Twin Shadow- Forget ALBUM REVIEW**"
      ],
      "text/plain": [
       "<IPython.core.display.Markdown object>"
      ]
     },
     "metadata": {},
     "output_type": "display_data"
    },
    {
     "data": {
      "text/markdown": [
       "* I'm still feeling a really BVA on this album. A B-F-1. I think if Twin Shadow shoots for a more well-produced LP, the next go around, he's going to come out with something amazing.\n",
       "* Maybe a flood here, a very slightly off-note there. However, I wouldn't say it makes the record difficult to listen to. The song writing is still really good in the sound effects, post-production, top notch. Some moments on the cell peak get really slow and moody and lurk like a mutant. The tracks castles in the snow or even the opener of this album come to mind. Very dark moments here, but still keep a very steady beat. While other tracks kind of feel like they're living the hayday of the danceier side of post punk in the 80s, a lot of disco influence, something that kind of reminds me of bands\n",
       "* like shriek back on classic singles like my spine is the baseline. Just that type of music that was highly, highly influential to that DFA record sound. Songs like for now and shooting holes at the moon kind of bring that to mind. I am enjoying it even though it's not the most amazing dance music I've ever heard. I do kind of want to warn you guys that I am a little bit of a sucker for this kind of stuff. Whether it's a slower track or a faster track, there are even a few intros on songs that I don't really care for with this thing. But no matter where a track may start or end up, the hooks are always razor sharp."
      ],
      "text/plain": [
       "<IPython.core.display.Markdown object>"
      ]
     },
     "metadata": {},
     "output_type": "display_data"
    },
    {
     "data": {
      "text/markdown": [
       "**Krallice - Crystalline Exhaustion ALBUM REVIEW**"
      ],
      "text/plain": [
       "<IPython.core.display.Markdown object>"
      ]
     },
     "metadata": {},
     "output_type": "display_data"
    },
    {
     "data": {
      "text/markdown": [
       "* There's a variety of synth patches on the track too, huge horns, spectral bells, a short and sweet ambient interlude too, which goes over better than some of the stuff the band was toying with on Goby for gotten. Then finally we have the massive title track, which lasts 14 minutes and is really an edge\n",
       "* chilly drone that sits on top of the crunchy and ever changing layers of drums and guitars that hang below. It's not really changing up Kralis's tried and true formula and sound, but it's there. It's providing something. It's an element. The pummeling performance and production on this track is really the driver of this song. And that's okay. It's a very visceral and unforgiving beginning to this LP.\n",
       "* on the whole project. Really, the drumming on this track is a total workout in creates and almost hypnotic sensation for the six minutes at last, which is really enhanced by the ethereal synth leads and the spiraling riffs that you can really get lost in."
      ],
      "text/plain": [
       "<IPython.core.display.Markdown object>"
      ]
     },
     "metadata": {},
     "output_type": "display_data"
    },
    {
     "data": {
      "text/markdown": [
       "**The Drums- Self-Titled ALBUM REVIEW**"
      ],
      "text/plain": [
       "<IPython.core.display.Markdown object>"
      ]
     },
     "metadata": {},
     "output_type": "display_data"
    },
    {
     "data": {
      "text/markdown": [
       "* Painfully emotional and about is straightforward as a punch to the face It's extreme pops and plasticity. It's the drums self titled full length You should really be putting your ears on that score But that's pretty much just how I'm feeling let me know what you guys think of this to you love this thing\n",
       "* Do you hate it and why and also favorite this video and make YouTube a better place Anthony Fantano the drums forever\n",
       "* Just kind of irrelevant if you're kind of a vocal Pyrrist if you really like your vocals on key you like them concise this may not be the release for you But if you're looking for something that is more emotional than it is on key something bright light and Summary something that's gonna make new order joy division and the Smith's fans warm where it counts"
      ],
      "text/plain": [
       "<IPython.core.display.Markdown object>"
      ]
     },
     "metadata": {},
     "output_type": "display_data"
    }
   ],
   "source": [
    "for index, row in segment_chunks_to_showcase_df.head(3).iterrows():\n",
    "    display(Markdown(f\"**{row['title']}**\"))\n",
    "    display(Markdown(\"\\n\".join([f\"* {chunk}\" for chunk in row['top_segment_chunks']])))\n"
   ]
  },
  {
   "cell_type": "markdown",
   "metadata": {},
   "source": [
    "# **Functionalized Version**\n",
    "I took all of the code above and wrote a single method from it. Below, I'll show it off:"
   ]
  },
  {
   "cell_type": "code",
   "execution_count": 27,
   "metadata": {},
   "outputs": [
    {
     "data": {
      "text/plain": [
       "[{'url': 'https://www.youtube.com/watch?v=CB-HKdkM7hg',\n",
       "  'top_segment_chunks': [\"I'm still feeling a really BVA on this album. A B-F-1. I think if Twin Shadow shoots for a more well-produced LP, the next go around, he's going to come out with something amazing.\",\n",
       "   \"Maybe a flood here, a very slightly off-note there. However, I wouldn't say it makes the record difficult to listen to. The song writing is still really good in the sound effects, post-production, top notch. Some moments on the cell peak get really slow and moody and lurk like a mutant. The tracks castles in the snow or even the opener of this album come to mind. Very dark moments here, but still keep a very steady beat. While other tracks kind of feel like they're living the hayday of the danceier side of post punk in the 80s, a lot of disco influence, something that kind of reminds me of bands\",\n",
       "   \"like shriek back on classic singles like my spine is the baseline. Just that type of music that was highly, highly influential to that DFA record sound. Songs like for now and shooting holes at the moon kind of bring that to mind. I am enjoying it even though it's not the most amazing dance music I've ever heard. I do kind of want to warn you guys that I am a little bit of a sucker for this kind of stuff. Whether it's a slower track or a faster track, there are even a few intros on songs that I don't really care for with this thing. But no matter where a track may start or end up, the hooks are always razor sharp.\"],\n",
       "  'id': 'CB-HKdkM7hg',\n",
       "  'title': 'Twin Shadow- Forget ALBUM REVIEW',\n",
       "  'length': 307,\n",
       "  'channel_id': 'UCt7fwAhXDy3oNFTAzF2o8Pw',\n",
       "  'channel_name': 'theneedledrop',\n",
       "  'short_description': \"Listen: http://bit.ly/dzDFiN / http://bit.ly/9KEvDH / http://bit.ly/95iXPO\\n\\nGonjasufi RMX LP: http://theneedledrop.com/?p=1361\\n\\nTwin Shadow's Forget is the stuff great debuts are made of: songs that get to the point; hooks that stay with you all day long; and the kind of production that begins to forge a distinct sound.\\n\\nFrom disco to new wave to post-punk, this album seems to dabble in nearly every fusion of dance and rock music. It's a style of music I'm a bit of a sucker for, but I think the songwriting is too good to deny.\\n\\nThe album's major flaw is a slightly muddy recording quality. There are also some slight musical flubs here and there. Nothing that didn't stop me from enjoying it, though.\\n\\nWhat do you think of this record? Love it? Hate it? Favorite track?\\n\\n8/10 http://www.theneedledrop.com/loved-list/2010\\n\\nhttp://theneedledrop.com\\n\\nhttp://bit.ly/TNDSupport\\n\\nhttp://bit.ly/TNDTwitter\\n\\nhttp://bit.ly/TNDFacebook\\n\\nFAV TRACKS: SHOOTING HOLES AT THE MOON, CASTLES IN THE SNOW, FORGET, TETHER BEAT, FOR NOW, I CAN'T WAIT\",\n",
       "  'description': \"Listen: http://bit.ly/dzDFiN / http://bit.ly/9KEvDH / http://bit.ly/95iXPO\\n\\nGonjasufi RMX LP: http://theneedledrop.com/?p=1361\\n\\nTwin Shadow's Forget is the stuff great debuts are made of: songs that get to the point; hooks that stay with you all day long; and the kind of production that begins to forge a distinct sound.\\n\\nFrom disco to new wave to post-punk, this album seems to dabble in nearly every fusion of dance and rock music. It's a style of music I'm a bit of a sucker for, but I think the songwriting is too good to deny.\\n\\nThe album's major flaw is a slightly muddy recording quality. There are also some slight musical flubs here and there. Nothing that didn't stop me from enjoying it, though.\\n\\nWhat do you think of this record? Love it? Hate it? Favorite track?\\n\\n8/10 http://www.theneedledrop.com/loved-list/2010\\n\\nhttp://theneedledrop.com\\n\\nhttp://bit.ly/TNDSupport\\n\\nhttp://bit.ly/TNDTwitter\\n\\nhttp://bit.ly/TNDFacebook\\n\\nFAV TRACKS: SHOOTING HOLES AT THE MOON, CASTLES IN THE SNOW, FORGET, TETHER BEAT, FOR NOW, I CAN'T WAIT\",\n",
       "  'view_ct': 31868,\n",
       "  'small_thumbnail_url': 'https://i.ytimg.com/vi/CB-HKdkM7hg/default.jpg',\n",
       "  'large_thumbnail_url': 'https://i.ytimg.com/vi/CB-HKdkM7hg/hqdefault.jpg',\n",
       "  'video_type': 'album_review',\n",
       "  'review_score': 8,\n",
       "  'publish_date': Timestamp('2010-10-05 00:00:00'),\n",
       "  'scrape_date': Timestamp('2024-01-07 13:35:50.237875'),\n",
       "  'median_similarity': 0.32726442704753317,\n",
       "  'n_similar_chunks': 10,\n",
       "  'weighted_median_similarity': 3.2726442704753316},\n",
       " {'url': 'https://www.youtube.com/watch?v=dDf9giqfhTI',\n",
       "  'top_segment_chunks': [\"There's a variety of synth patches on the track too, huge horns, spectral bells, a short and sweet ambient interlude too, which goes over better than some of the stuff the band was toying with on Goby for gotten. Then finally we have the massive title track, which lasts 14 minutes and is really an edge\",\n",
       "   \"chilly drone that sits on top of the crunchy and ever changing layers of drums and guitars that hang below. It's not really changing up Kralis's tried and true formula and sound, but it's there. It's providing something. It's an element. The pummeling performance and production on this track is really the driver of this song. And that's okay. It's a very visceral and unforgiving beginning to this LP.\",\n",
       "   'on the whole project. Really, the drumming on this track is a total workout in creates and almost hypnotic sensation for the six minutes at last, which is really enhanced by the ethereal synth leads and the spiraling riffs that you can really get lost in.'],\n",
       "  'id': 'dDf9giqfhTI',\n",
       "  'title': 'Krallice - Crystalline Exhaustion ALBUM REVIEW',\n",
       "  'length': 341,\n",
       "  'channel_id': 'UCt7fwAhXDy3oNFTAzF2o8Pw',\n",
       "  'channel_name': 'theneedledrop',\n",
       "  'short_description': \"Listen: https://krallice.bandcamp.com/album/crystalline-exhaustion\\n\\nKrallice's most ambitious record since Years Past Matter.\\n\\nMore metal reviews: https://www.youtube.com/playlist?list=PLP4CSgl7K7orAG2zKtoJKnTt_bAnLwTXo\\n\\n===================================\\nSubscribe: http://bit.ly/1pBqGCN\\n\\nPatreon: https://www.patreon.com/theneedledrop\\n\\nOfficial site: http://theneedledrop.com\\n\\nTwitter: http://twitter.com/theneedledrop\\n\\nInstagram: https://www.instagram.com/afantano\\n\\nTikTok: https://www.tiktok.com/@theneedletok\\n\\nTND Twitch: https://www.twitch.tv/theneedledrop\\n===================================\\n\\nFAV TRACKS: TELOS, HEATHEN SWILL, ARCHLIGHTS, DISMAL ENTITY, CRYSTALLINE EXHAUSTION\\n\\nLEAST FAV TRACK: FROST\\n\\nKRALLICE - CRYSTALLINE EXHAUSTION / 2022 / P2 / AVANT-GARDE METAL\\n\\n8/10 https://www.theneedledrop.com/loved-list/2022\\n\\nY'all know this is just my opinion, right?\",\n",
       "  'description': \"Listen: https://krallice.bandcamp.com/album/crystalline-exhaustion\\n\\nKrallice's most ambitious record since Years Past Matter.\\n\\nMore metal reviews: https://www.youtube.com/playlist?list=PLP4CSgl7K7orAG2zKtoJKnTt_bAnLwTXo\\n\\n===================================\\nSubscribe: http://bit.ly/1pBqGCN\\n\\nPatreon: https://www.patreon.com/theneedledrop\\n\\nOfficial site: http://theneedledrop.com\\n\\nTwitter: http://twitter.com/theneedledrop\\n\\nInstagram: https://www.instagram.com/afantano\\n\\nTikTok: https://www.tiktok.com/@theneedletok\\n\\nTND Twitch: https://www.twitch.tv/theneedledrop\\n===================================\\n\\nFAV TRACKS: TELOS, HEATHEN SWILL, ARCHLIGHTS, DISMAL ENTITY, CRYSTALLINE EXHAUSTION\\n\\nLEAST FAV TRACK: FROST\\n\\nKRALLICE - CRYSTALLINE EXHAUSTION / 2022 / P2 / AVANT-GARDE METAL\\n\\n8/10 https://www.theneedledrop.com/loved-list/2022\\n\\nY'all know this is just my opinion, right?\",\n",
       "  'view_ct': 129492,\n",
       "  'small_thumbnail_url': 'https://i.ytimg.com/vi/dDf9giqfhTI/default.jpg',\n",
       "  'large_thumbnail_url': 'https://i.ytimg.com/vi/dDf9giqfhTI/sddefault.jpg',\n",
       "  'video_type': 'album_review',\n",
       "  'review_score': 8,\n",
       "  'publish_date': Timestamp('2022-02-01 00:00:00'),\n",
       "  'scrape_date': Timestamp('2024-01-06 11:29:40.306236'),\n",
       "  'median_similarity': 0.3152442856351405,\n",
       "  'n_similar_chunks': 10,\n",
       "  'weighted_median_similarity': 3.152442856351405},\n",
       " {'url': 'https://www.youtube.com/watch?v=cUXCNgJSmzU',\n",
       "  'top_segment_chunks': [\"Painfully emotional and about is straightforward as a punch to the face It's extreme pops and plasticity. It's the drums self titled full length You should really be putting your ears on that score But that's pretty much just how I'm feeling let me know what you guys think of this to you love this thing\",\n",
       "   'Do you hate it and why and also favorite this video and make YouTube a better place Anthony Fantano the drums forever',\n",
       "   \"Just kind of irrelevant if you're kind of a vocal Pyrrist if you really like your vocals on key you like them concise this may not be the release for you But if you're looking for something that is more emotional than it is on key something bright light and Summary something that's gonna make new order joy division and the Smith's fans warm where it counts\"],\n",
       "  'id': 'cUXCNgJSmzU',\n",
       "  'title': 'The Drums- Self-Titled ALBUM REVIEW',\n",
       "  'length': 291,\n",
       "  'channel_id': 'UCt7fwAhXDy3oNFTAzF2o8Pw',\n",
       "  'channel_name': 'theneedledrop',\n",
       "  'short_description': \"Listen: http://bit.ly/cOUMZ3 / http://bit.ly/bgNBMu\\n\\nBrooklyn's the Drum's play hook-heavy drum machine pop. The vocals are loaded with reverb, and there's actually no bass guitar to be found. It's a thin, tinny sound; plus, the vocals are extremely whiny. However, I'm really friggin' diggin' it! The songwriting is just too sweet to deny. These tracks started getting stuck in my head on first listen, no lie.\\n\\nWhat do you think of this band and their new album? Love it? Hate it? Why?\\n\\n8/10 http://www.theneedledrop.com/loved-list/2010\\n\\nhttp://theneedledrop.com\\n\\nhttp://bit.ly/SupportTND\\n\\nhttp://bit.ly/TNDTwitter\\n\\nhttp://bit.ly/TNDFacebook\\n\\nFAV TRACKS: BEST FRIEND, LET'S GO SURFING, IT WILL ALL END IN TEARS, WE TRIED\",\n",
       "  'description': \"Listen: http://bit.ly/cOUMZ3 / http://bit.ly/bgNBMu\\n\\nBrooklyn's the Drum's play hook-heavy drum machine pop. The vocals are loaded with reverb, and there's actually no bass guitar to be found. It's a thin, tinny sound; plus, the vocals are extremely whiny. However, I'm really friggin' diggin' it! The songwriting is just too sweet to deny. These tracks started getting stuck in my head on first listen, no lie.\\n\\nWhat do you think of this band and their new album? Love it? Hate it? Why?\\n\\n8/10 http://www.theneedledrop.com/loved-list/2010\\n\\nhttp://theneedledrop.com\\n\\nhttp://bit.ly/SupportTND\\n\\nhttp://bit.ly/TNDTwitter\\n\\nhttp://bit.ly/TNDFacebook\\n\\nFAV TRACKS: BEST FRIEND, LET'S GO SURFING, IT WILL ALL END IN TEARS, WE TRIED\",\n",
       "  'view_ct': 31701,\n",
       "  'small_thumbnail_url': 'https://i.ytimg.com/vi/cUXCNgJSmzU/default.jpg',\n",
       "  'large_thumbnail_url': 'https://i.ytimg.com/vi/cUXCNgJSmzU/hqdefault.jpg',\n",
       "  'video_type': 'album_review',\n",
       "  'review_score': 8,\n",
       "  'publish_date': Timestamp('2010-06-10 00:00:00'),\n",
       "  'scrape_date': Timestamp('2024-01-07 13:56:13.933375'),\n",
       "  'median_similarity': 0.30572267779217327,\n",
       "  'n_similar_chunks': 10,\n",
       "  'weighted_median_similarity': 3.057226777921733}]"
      ]
     },
     "execution_count": 27,
     "metadata": {},
     "output_type": "execute_result"
    }
   ],
   "source": [
    "from utils.search import neural_search\n",
    "\n",
    "# Run the search\n",
    "neural_search(\n",
    "    query=query,\n",
    "    release_date_filter=release_date_filter,\n",
    "    video_type_filter=video_type_filter,\n",
    "    review_score_filter=review_score_filter,\n",
    "    n_most_similar_chunks_per_video=n_most_similar_chunks_per_video,\n",
    "    n_videos_to_return=n_videos_to_return,\n",
    "    n_segment_chunks_to_showcase=n_segment_chunks_to_showcase,\n",
    ")"
   ]
  },
  {
   "cell_type": "code",
   "execution_count": null,
   "metadata": {},
   "outputs": [],
   "source": []
  }
 ],
 "metadata": {
  "kernelspec": {
   "display_name": ".venv",
   "language": "python",
   "name": "python3"
  },
  "language_info": {
   "codemirror_mode": {
    "name": "ipython",
    "version": 3
   },
   "file_extension": ".py",
   "mimetype": "text/x-python",
   "name": "python",
   "nbconvert_exporter": "python",
   "pygments_lexer": "ipython3",
   "version": "3.11.0"
  }
 },
 "nbformat": 4,
 "nbformat_minor": 2
}
