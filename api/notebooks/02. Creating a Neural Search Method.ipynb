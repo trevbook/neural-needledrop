{
 "cells": [
  {
   "cell_type": "markdown",
   "metadata": {},
   "source": [
    "# **Creating a Neural Search Method**\n",
    "Now that I've got some helpful methods within the **`01. Writing Postgres Queries`** notebook, I can spend some time writing a \"neural search\" method. This will be used for the API. "
   ]
  },
  {
   "cell_type": "markdown",
   "metadata": {},
   "source": [
    "# Setup\n",
    "The cells below will set up the rest of the notebook.\n",
    "\n",
    "I'll start by configuring the kernel: "
   ]
  },
  {
   "cell_type": "code",
   "execution_count": 1,
   "metadata": {},
   "outputs": [
    {
     "name": "stdout",
     "output_type": "stream",
     "text": [
      "d:\\data\\programming\\neural-needledrop\\api\n"
     ]
    }
   ],
   "source": [
    "# Change the working directory \n",
    "%cd ..\n",
    "\n",
    "# Enable the autoreload extension, which will automatically load in new code as it's written\n",
    "%load_ext autoreload\n",
    "%autoreload 2"
   ]
  },
  {
   "cell_type": "markdown",
   "metadata": {},
   "source": [
    "Now I'll import some necessary modules:"
   ]
  },
  {
   "cell_type": "code",
   "execution_count": 2,
   "metadata": {},
   "outputs": [],
   "source": [
    "# General import statements\n",
    "import pandas as pd\n",
    "import datetime\n",
    "from IPython.display import Markdown, display\n",
    "\n",
    "# Importing custom modules\n",
    "from utils.settings import (\n",
    "    POSTGRES_USER,\n",
    "    POSTGRES_PASSWORD,\n",
    "    POSTGRES_HOST,\n",
    "    POSTGRES_PORT,\n",
    "    POSTGRES_DB,\n",
    ")\n",
    "import utils.postgres_queries as pg_queries\n",
    "import utils.postgres as postgres\n",
    "from sqlalchemy import create_engine, MetaData\n",
    "from sqlalchemy.orm import sessionmaker, declarative_base"
   ]
  },
  {
   "cell_type": "markdown",
   "metadata": {},
   "source": [
    "I'll also set up my connection to the Postgres server: "
   ]
  },
  {
   "cell_type": "code",
   "execution_count": 3,
   "metadata": {},
   "outputs": [],
   "source": [
    "# Create the connection string to the database\n",
    "postgres_connection_string = f\"postgresql://{POSTGRES_USER}:{POSTGRES_PASSWORD}@{POSTGRES_HOST}:{POSTGRES_PORT}/{POSTGRES_DB}\"\n",
    "\n",
    "# Create the connection engine\n",
    "engine = create_engine(postgres_connection_string)\n",
    "metadata = MetaData()\n",
    "session = sessionmaker(bind=engine)()\n",
    "Base = declarative_base()"
   ]
  },
  {
   "cell_type": "markdown",
   "metadata": {},
   "source": [
    "# **Prototyping Neural Search**\n",
    "Below, I'm going to prototype a search method. \n",
    "\n",
    "I'll start by parameterizing the search:"
   ]
  },
  {
   "cell_type": "code",
   "execution_count": 5,
   "metadata": {},
   "outputs": [],
   "source": [
    "# Parameterize the search\n",
    "query = \"deep, slowed drone background vocals, glitchy percussion and a heavy bassline\"\n",
    "release_date_filter = [datetime.datetime(2010, 1, 1), datetime.datetime(2024, 6, 1)]\n",
    "video_type_filter = [\"album_review\", \"mixtape_review\"]\n",
    "review_score_filter = [6, 10]\n",
    "\n",
    "# Extra parameters\n",
    "n_chunks_to_consider_initially = 250\n",
    "n_most_similar_chunks_per_video = 10\n",
    "n_videos_to_return = 10\n",
    "n_segment_chunks_to_showcase = 3"
   ]
  },
  {
   "cell_type": "markdown",
   "metadata": {},
   "source": [
    "Now, I'll try and identify the most similar segments:"
   ]
  },
  {
   "cell_type": "code",
   "execution_count": 6,
   "metadata": {},
   "outputs": [],
   "source": [
    "# Run the query\n",
    "similar_chunks_df = pg_queries.most_similar_embeddings_to_text_filtered(\n",
    "    text=query,\n",
    "    engine=engine,\n",
    "    n=n_chunks_to_consider_initially,\n",
    "    release_date_filter=release_date_filter,\n",
    "    video_type_filter=video_type_filter,\n",
    "    review_score_filter=review_score_filter,\n",
    "    include_text=True,\n",
    ")"
   ]
  },
  {
   "cell_type": "markdown",
   "metadata": {},
   "source": [
    "With this in hand, I want to aggregate across a bunch of videos, and try to determine which video has the highest scores."
   ]
  },
  {
   "cell_type": "code",
   "execution_count": 7,
   "metadata": {},
   "outputs": [],
   "source": [
    "# Groupby `url`, and take the top `n_most_similar_chunks_per_video` chunks per video\n",
    "aggregated_similar_chunks_df = similar_chunks_df.groupby(\"url\").head(\n",
    "    n_most_similar_chunks_per_video\n",
    ")\n",
    "\n",
    "# Aggregate the similarity statistics\n",
    "aggregated_similar_chunks_df = (\n",
    "    aggregated_similar_chunks_df.groupby(\"url\")\n",
    "    .agg(\n",
    "        median_similarity=(\"cos_sim\", \"median\"),\n",
    "        n_similar_chunks=(\"cos_sim\", \"count\"),\n",
    "    )\n",
    "    .reset_index()\n",
    ")\n",
    "\n",
    "# Add a weighted median similarity column\n",
    "aggregated_similar_chunks_df[\"weighted_median_similarity\"] = (\n",
    "    aggregated_similar_chunks_df[\"median_similarity\"]\n",
    "    * aggregated_similar_chunks_df[\"n_similar_chunks\"]\n",
    ")\n",
    "\n",
    "# Sort by the weighted median similarity\n",
    "aggregated_similar_chunks_df = aggregated_similar_chunks_df.sort_values(\n",
    "    \"weighted_median_similarity\", ascending=False\n",
    ").head(n_videos_to_return)"
   ]
  },
  {
   "cell_type": "markdown",
   "metadata": {},
   "source": [
    "Now, we're going to get some metadata about each video back. This will involve uploading a temporary table to Postgres, and then joining it to the `video_metadata` table:"
   ]
  },
  {
   "cell_type": "code",
   "execution_count": 8,
   "metadata": {},
   "outputs": [],
   "source": [
    "# Create a temporary table called `temp_similar_chunks` that is the aggregated_similar_chunks_df DataFrame\n",
    "with engine.connect() as conn:\n",
    "    aggregated_similar_chunks_df.to_sql(\n",
    "        \"temp_similar_chunks\", conn, if_exists=\"replace\", index=False\n",
    "    )\n",
    "\n",
    "# Now, select the entire `video_metadata` table for each of the videos in the `temp_similar_chunks` table\n",
    "similar_chunks_video_metadata_df = postgres.query_postgres(\n",
    "    \"\"\"\n",
    "    SELECT \n",
    "        video_metadata.*, \n",
    "        temp_similar_chunks.median_similarity, \n",
    "        temp_similar_chunks.n_similar_chunks, \n",
    "        temp_similar_chunks.weighted_median_similarity\n",
    "    FROM video_metadata\n",
    "    JOIN temp_similar_chunks\n",
    "    ON video_metadata.url = temp_similar_chunks.url\n",
    "    ORDER BY temp_similar_chunks.weighted_median_similarity DESC\n",
    "    \"\"\",\n",
    "    engine=engine,\n",
    ")"
   ]
  },
  {
   "cell_type": "markdown",
   "metadata": {},
   "source": [
    "Finally, we're going to prepare our results. This will just be the `similar_chunks_video_metadata_df`, except also containing the `n_segment_chunks_to_showcase` most similar segment chunks per video. "
   ]
  },
  {
   "cell_type": "code",
   "execution_count": 9,
   "metadata": {},
   "outputs": [],
   "source": [
    "# Create a DataFrame containing the segment chunks I want to showcase\n",
    "segment_chunks_to_showcase_df = (\n",
    "    (\n",
    "        similar_chunks_df[\n",
    "            similar_chunks_df[\"url\"].isin(\n",
    "                similar_chunks_video_metadata_df[\"url\"].unique()\n",
    "            )\n",
    "        ]\n",
    "        .sort_values(\"cos_sim\", ascending=False)\n",
    "        .groupby(\"url\")\n",
    "        .head(n_segment_chunks_to_showcase)\n",
    "        .sort_values([\"url\", \"cos_sim\"], ascending=False)\n",
    "    )\n",
    "    .groupby(\"url\")\n",
    "    .agg(\n",
    "        top_segment_chunks=(\"text\", lambda x: list(x)),\n",
    "    )\n",
    "    .reset_index()\n",
    ")\n",
    "\n",
    "# Merge this DataFrame with the video metadata\n",
    "segment_chunks_to_showcase_df = segment_chunks_to_showcase_df.merge(\n",
    "    similar_chunks_video_metadata_df, on=\"url\"\n",
    ").sort_values(\"weighted_median_similarity\", ascending=False)"
   ]
  },
  {
   "cell_type": "markdown",
   "metadata": {},
   "source": [
    "Now, I'm going to print the results using some nice formatting:"
   ]
  },
  {
   "cell_type": "code",
   "execution_count": 10,
   "metadata": {},
   "outputs": [
    {
     "data": {
      "text/markdown": [
       "**Actress - Ghettoville ALBUM REVIEW**"
      ],
      "text/plain": [
       "<IPython.core.display.Markdown object>"
      ]
     },
     "metadata": {},
     "output_type": "display_data"
    },
    {
     "data": {
      "text/markdown": [
       "* There's a breathy vocal sample on this track, some deep bass and I love the sharp sounds of the drums on this track. And the tracks which is back and forth between these robotic drum beats and these\n",
       "* where it seems like he tries to strip back as much treble as possible with some pretty nice basslines on the song too, and then there's skyline which is incredibly minimal, it's glitchy, and there's some weird metallic drones hanging in the background of this track too, and I love\n",
       "* while it isn't really a heavy track, it is an incredibly eerie song with a very sour drone hanging in the background with some very tense hyads playing in the foreground. There's some odd synthesizer keys that play on this track too, and longer this song goes,"
      ],
      "text/plain": [
       "<IPython.core.display.Markdown object>"
      ]
     },
     "metadata": {},
     "output_type": "display_data"
    },
    {
     "data": {
      "text/markdown": [
       "**Nicolas Jaar - Cenizas ALBUM REVIEW**"
      ],
      "text/plain": [
       "<IPython.core.display.Markdown object>"
      ]
     },
     "metadata": {},
     "output_type": "display_data"
    },
    {
     "data": {
      "text/markdown": [
       "* a bit more low fidelity. Honestly, it all sounds like a little bit of a AIA, a erogruper, but with Nick's voice on top of it instead, which is relatively haunting, especially as he digs into his lower register and sings very close to the microphone. It's like a pulter guys does in my ear\n",
       "* instrumental palettes. From the watery keys and shuffling, percussive noise and wailing read leads on the track rubble to the track Xerox, which is a stunning drone piece, loaded with a lot of raw, pitchy instrumentation that is shrouded in ambient noise. There might be\n",
       "* of sorts, doesn't really compare to anything else on the album. So while Sonesis is an exactly the most cohesive record in this somewhat ambient style that you're ever going to hear, most of the pieces are still pretty evocative. We have the opening track vanish, which features"
      ],
      "text/plain": [
       "<IPython.core.display.Markdown object>"
      ]
     },
     "metadata": {},
     "output_type": "display_data"
    },
    {
     "data": {
      "text/markdown": [
       "**Liars - Mess ALBUM REVIEW**"
      ],
      "text/plain": [
       "<IPython.core.display.Markdown object>"
      ]
     },
     "metadata": {},
     "output_type": "display_data"
    },
    {
     "data": {
      "text/markdown": [
       "* And the beats, the rhythms, the grooves on this LP range from monstrous, massive, industrialized nightmares to kind of upbeat, high tempo, glitchy and strange dance tracks. There are even a series of songs on this LP that head back into that ambient direction that you\n",
       "* which has all these bubbling synthesizer arpeggios keeping a really tight pace. And there are some pretty weird vocal samples playing throughout this track too, like it might face. But their placement into the song seems so much like, I don't know, just like a electric body music from the\n",
       "* busy piece of electronic music, very dense. And the way the song progresses, it doesn't really make a huge significant change in the midst of its runtime or anything like that. It just progressively gets noiseier and noiseier and noiseier. I wish there was a bit more change across this track, though it feels"
      ],
      "text/plain": [
       "<IPython.core.display.Markdown object>"
      ]
     },
     "metadata": {},
     "output_type": "display_data"
    }
   ],
   "source": [
    "for index, row in segment_chunks_to_showcase_df.head(3).iterrows():\n",
    "    display(Markdown(f\"**{row['title']}**\"))\n",
    "    display(Markdown(\"\\n\".join([f\"* {chunk}\" for chunk in row['top_segment_chunks']])))\n"
   ]
  },
  {
   "cell_type": "markdown",
   "metadata": {},
   "source": [
    "# **Functionalized Version**\n",
    "I took all of the code above and wrote a single method from it. Below, I'll show it off:"
   ]
  },
  {
   "cell_type": "code",
   "execution_count": 4,
   "metadata": {},
   "outputs": [
    {
     "data": {
      "text/plain": [
       "'[{\"url\":\"https:\\\\/\\\\/www.youtube.com\\\\/watch?v=7VTfz-V5JeA\",\"top_segment_chunks\":[\"There\\'s a breathy vocal sample on this track, some deep bass and I love the sharp sounds of the drums on this track. And the tracks which is back and forth between these robotic drum beats and these\",\"where it seems like he tries to strip back as much treble as possible with some pretty nice basslines on the song too, and then there\\'s skyline which is incredibly minimal, it\\'s glitchy, and there\\'s some weird metallic drones hanging in the background of this track too, and I love\",\"while it isn\\'t really a heavy track, it is an incredibly eerie song with a very sour drone hanging in the background with some very tense hyads playing in the foreground. There\\'s some odd synthesizer keys that play on this track too, and longer this song goes,\"],\"id\":\"7VTfz-V5JeA\",\"title\":\"Actress - Ghettoville ALBUM REVIEW\",\"length\":486,\"channel_id\":\"UCt7fwAhXDy3oNFTAzF2o8Pw\",\"channel_name\":\"theneedledrop\",\"short_description\":\"Listen: http:\\\\/\\\\/theneedledrop.com\\\\/2014\\\\/01\\\\/actress-rap\\\\/\\\\n\\\\nActress\\' latest album is like a musical sketchbook filled with intimate, personal experiments with techno, house, and more.\\\\n\\\\nWhat did you think of this album? Love it? Hate it? Why? What should I review next, eh?\\\\n\\\\nFollow TND on Twitter: http:\\\\/\\\\/twitter.com\\\\/theneedledrop\\\\n\\\\nLike TND on Facebook: http:\\\\/\\\\/facebook.com\\\\/theneedledrop\\\\n\\\\nSupport TND: http:\\\\/\\\\/theneedledrop.com\\\\/support\\\\n\\\\nOur podcast: http:\\\\/\\\\/theneedledrop.com\\\\/category\\\\/podcast\\\\/\\\\n\\\\nJoin our forum: http:\\\\/\\\\/theneedledrop.com\\\\/forum\\\\n\\\\nhttp:\\\\/\\\\/theneedledrop.com\\\\n\\\\nFAV TRACKS: FORGIVEN, CORNER, CONTAGIOUS, BIRDCAGE, TIME, GAZE, SKYLINE, FRONTLINE\\\\n\\\\nLEAST FAV TRACK: RULE\\\\n\\\\nACTRESS - GHETTOVILLE \\\\/ 2014 \\\\/ WERK DISCS \\\\/ IDM, MICRO HOUSE, MINIMAL TECHNO, VAPORWAVE, EXPERIMENTAL ELECTRONICS, SONIC SPELUNKING\\\\n\\\\n8\\\\/10 http:\\\\/\\\\/www.theneedledrop.com\\\\/loved-list\\\\/2014\\\\n\\\\nY\\'all know this is just my opinion, right?\\\\n\\\\nSHOUTOUTS!\\\\nWill\",\"description\":\"Listen: http:\\\\/\\\\/theneedledrop.com\\\\/2014\\\\/01\\\\/actress-rap\\\\/\\\\n\\\\nActress\\' latest album is like a musical sketchbook filled with intimate, personal experiments with techno, house, and more.\\\\n\\\\nWhat did you think of this album? Love it? Hate it? Why? What should I review next, eh?\\\\n\\\\nFollow TND on Twitter: http:\\\\/\\\\/twitter.com\\\\/theneedledrop\\\\n\\\\nLike TND on Facebook: http:\\\\/\\\\/facebook.com\\\\/theneedledrop\\\\n\\\\nSupport TND: http:\\\\/\\\\/theneedledrop.com\\\\/support\\\\n\\\\nOur podcast: http:\\\\/\\\\/theneedledrop.com\\\\/category\\\\/podcast\\\\/\\\\n\\\\nJoin our forum: http:\\\\/\\\\/theneedledrop.com\\\\/forum\\\\n\\\\nhttp:\\\\/\\\\/theneedledrop.com\\\\n\\\\nFAV TRACKS: FORGIVEN, CORNER, CONTAGIOUS, BIRDCAGE, TIME, GAZE, SKYLINE, FRONTLINE\\\\n\\\\nLEAST FAV TRACK: RULE\\\\n\\\\nACTRESS - GHETTOVILLE \\\\/ 2014 \\\\/ WERK DISCS \\\\/ IDM, MICRO HOUSE, MINIMAL TECHNO, VAPORWAVE, EXPERIMENTAL ELECTRONICS, SONIC SPELUNKING\\\\n\\\\n8\\\\/10 http:\\\\/\\\\/www.theneedledrop.com\\\\/loved-list\\\\/2014\\\\n\\\\nY\\'all know this is just my opinion, right?\\\\n\\\\nSHOUTOUTS!\\\\nWill\",\"view_ct\":53125,\"small_thumbnail_url\":\"https:\\\\/\\\\/i.ytimg.com\\\\/vi\\\\/7VTfz-V5JeA\\\\/default.jpg\",\"large_thumbnail_url\":\"https:\\\\/\\\\/i.ytimg.com\\\\/vi\\\\/7VTfz-V5JeA\\\\/sddefault.jpg\",\"video_type\":\"album_review\",\"review_score\":8,\"publish_date\":1390953600000,\"scrape_date\":1704636475912,\"median_similarity\":0.5975458924,\"n_similar_chunks\":5,\"weighted_median_similarity\":2.9877294618},{\"url\":\"https:\\\\/\\\\/www.youtube.com\\\\/watch?v=2akyCFh6DOg\",\"top_segment_chunks\":[\"groove, shouting lead vocals and these hypnotic shimmering synth chords pulsating at a very quick pace. But then suddenly the track transitions into this very off-kilter drum pattern with these\",\"No, I really like the song Solis which is probably the album\\'s catchy as track. A lot of very groovy angular rhythms and driving bass and sharp guitar leads. The song features a smooth transition into a very overwhelming kind of fuzzy saturated\",\"There\\'s like a very distant snare, high hat pattern going on in the background, but it doesn\\'t provide much in the way of propulsion to the instrumental. Mostly I feel like the mix on this track is made up of ghostly reverb apparitions as opposed\"],\"id\":\"2akyCFh6DOg\",\"title\":\"Preoccupations - New Material ALBUM REVIEW\",\"length\":354,\"channel_id\":\"UCt7fwAhXDy3oNFTAzF2o8Pw\",\"channel_name\":\"theneedledrop\",\"short_description\":\"Listen: https:\\\\/\\\\/www.youtube.com\\\\/watch?v=keq2JOyZ6KI&ab_channel=Jagjaguwar\\\\n\\\\nNew Material is Preoccupations\\' most lackluster album so far.\\\\n\\\\nMore rock reviews: https:\\\\/\\\\/www.youtube.com\\\\/playlist?list=PLP4CSgl7K7ori6-Iz-AWcX561iWCfapt_\\\\n\\\\nBuy this album: https:\\\\/\\\\/amzn.to\\\\/2GkOk9i\\\\n\\\\n===================================\\\\nSubscribe: http:\\\\/\\\\/bit.ly\\\\/1pBqGCN\\\\n\\\\nOfficial site: http:\\\\/\\\\/theneedledrop.com\\\\n\\\\nTND Twitter: http:\\\\/\\\\/twitter.com\\\\/theneedledrop\\\\n\\\\nTND Facebook: http:\\\\/\\\\/facebook.com\\\\/theneedledrop\\\\n\\\\nSupport TND: http:\\\\/\\\\/theneedledrop.com\\\\/support\\\\n===================================\\\\n\\\\nFAV TRACKS: SOLACE, COMPLIANCE\\\\n\\\\nLEAST FAV TRACK: DOUBT\\\\n\\\\nPREOCCUPATIONS - NEW MATERIAL \\\\/ 2018 \\\\/ JAGJAGUWAR \\\\/ POST-PUNK, COLDWAVE\\\\n\\\\n5\\\\/10\\\\n\\\\nY\\'all know this is just my opinion, right?\",\"description\":\"Listen: https:\\\\/\\\\/www.youtube.com\\\\/watch?v=keq2JOyZ6KI&ab_channel=Jagjaguwar\\\\n\\\\nNew Material is Preoccupations\\' most lackluster album so far.\\\\n\\\\nMore rock reviews: https:\\\\/\\\\/www.youtube.com\\\\/playlist?list=PLP4CSgl7K7ori6-Iz-AWcX561iWCfapt_\\\\n\\\\nBuy this album: https:\\\\/\\\\/amzn.to\\\\/2GkOk9i\\\\n\\\\n===================================\\\\nSubscribe: http:\\\\/\\\\/bit.ly\\\\/1pBqGCN\\\\n\\\\nOfficial site: http:\\\\/\\\\/theneedledrop.com\\\\n\\\\nTND Twitter: http:\\\\/\\\\/twitter.com\\\\/theneedledrop\\\\n\\\\nTND Facebook: http:\\\\/\\\\/facebook.com\\\\/theneedledrop\\\\n\\\\nSupport TND: http:\\\\/\\\\/theneedledrop.com\\\\/support\\\\n===================================\\\\n\\\\nFAV TRACKS: SOLACE, COMPLIANCE\\\\n\\\\nLEAST FAV TRACK: DOUBT\\\\n\\\\nPREOCCUPATIONS - NEW MATERIAL \\\\/ 2018 \\\\/ JAGJAGUWAR \\\\/ POST-PUNK, COLDWAVE\\\\n\\\\n5\\\\/10\\\\n\\\\nY\\'all know this is just my opinion, right?\",\"view_ct\":60792,\"small_thumbnail_url\":\"https:\\\\/\\\\/i.ytimg.com\\\\/vi\\\\/2akyCFh6DOg\\\\/default.jpg\",\"large_thumbnail_url\":\"https:\\\\/\\\\/i.ytimg.com\\\\/vi\\\\/2akyCFh6DOg\\\\/sddefault.jpg\",\"video_type\":\"album_review\",\"review_score\":5,\"publish_date\":1522281600000,\"scrape_date\":1704585193163,\"median_similarity\":0.581836527,\"n_similar_chunks\":3,\"weighted_median_similarity\":1.7455095811},{\"url\":\"https:\\\\/\\\\/www.youtube.com\\\\/watch?v=5RUl-fZU2LQ\",\"top_segment_chunks\":[\"It\\'s like waves of cords washing over little tiny notes of broken glass. And this being the longest track on the record, there are numerous phases to this song. I mean, the music melts, it becomes firmer and more defined. It eventually goes into a spot that I could only call a hyperdrive in the last third.\",\"very aggressive. The first time I would probably call Daniel\\'s music visceral, the distorted synths on this track actually start resembling guitars at some point. There are actually some moments, I think toward the end of this album where some guitar sort of presents itself.\",\"I mean, take a number, buddy. One thing that I can say for sure is the music on this album is abstract. It\\'s fractured, but it\\'s also very pretty and well composed and melodic.\"],\"id\":\"5RUl-fZU2LQ\",\"title\":\"Oneohtrix Point Never - Garden of Delete ft. FrankJavCee\",\"length\":602,\"channel_id\":\"UCt7fwAhXDy3oNFTAzF2o8Pw\",\"channel_name\":\"theneedledrop\",\"short_description\":\"Listen: http:\\\\/\\\\/www.theneedledrop.com\\\\/articles\\\\/2015\\\\/11\\\\/oneohtrix-point-never-sticky-drama-video?rq=oneohtrix%20point%20never\\\\n\\\\nOneohtrix Point Never returns with a mind-bending set of tracks on Garden of Delete.\\\\n\\\\nMore electronic reviews: http:\\\\/\\\\/bit.ly\\\\/1qyjP06a\\\\n\\\\nBuy this album: http:\\\\/\\\\/amzn.to\\\\/1QiS3la\\\\n\\\\nAlso, thank you to FrankJavCee for the short appearance. Here\\'s his YT channel: https:\\\\/\\\\/www.youtube.com\\\\/user\\\\/FrankJavCee\\\\n\\\\n===================================\\\\nSubscribe: http:\\\\/\\\\/bit.ly\\\\/1pBqGCN\\\\n\\\\nOfficial site: http:\\\\/\\\\/theneedledrop.com\\\\n\\\\nTND Twitter: http:\\\\/\\\\/twitter.com\\\\/theneedledrop\\\\n\\\\nTND Facebook: http:\\\\/\\\\/facebook.com\\\\/theneedledrop\\\\n\\\\nSupport TND: http:\\\\/\\\\/theneedledrop.com\\\\/support\\\\n===================================\\\\n\\\\nFAV TRACKS: FREAKY EYES, I BITE THROUGH IT, NO GOOD, STICKY DRAMA, SDFK, ANIMALS\\\\n\\\\nLEAST FAV TRACK: LIFT\\\\n\\\\nONEOHTRIX POINT NEVER - GARDEN OF DELETE \\\\/ 2015 \\\\/ WARP RECORDS \\\\/ ABSTRACT ELECTRONIC MUSIC MEANT TO MESS WITH YOUR HEAD AND INSPIRE BEAUTIFUL MENTAL IMAGES\\\\n\\\\n8\\\\/10 http:\\\\/\\\\/www.theneedledrop.com\\\\/loved-list\\\\/2015\\\\n\\\\nY\\'all know this is just my opinion, right?\",\"description\":\"Listen: http:\\\\/\\\\/www.theneedledrop.com\\\\/articles\\\\/2015\\\\/11\\\\/oneohtrix-point-never-sticky-drama-video?rq=oneohtrix%20point%20never\\\\n\\\\nOneohtrix Point Never returns with a mind-bending set of tracks on Garden of Delete.\\\\n\\\\nMore electronic reviews: http:\\\\/\\\\/bit.ly\\\\/1qyjP06a\\\\n\\\\nBuy this album: http:\\\\/\\\\/amzn.to\\\\/1QiS3la\\\\n\\\\nAlso, thank you to FrankJavCee for the short appearance. Here\\'s his YT channel: https:\\\\/\\\\/www.youtube.com\\\\/user\\\\/FrankJavCee\\\\n\\\\n===================================\\\\nSubscribe: http:\\\\/\\\\/bit.ly\\\\/1pBqGCN\\\\n\\\\nOfficial site: http:\\\\/\\\\/theneedledrop.com\\\\n\\\\nTND Twitter: http:\\\\/\\\\/twitter.com\\\\/theneedledrop\\\\n\\\\nTND Facebook: http:\\\\/\\\\/facebook.com\\\\/theneedledrop\\\\n\\\\nSupport TND: http:\\\\/\\\\/theneedledrop.com\\\\/support\\\\n===================================\\\\n\\\\nFAV TRACKS: FREAKY EYES, I BITE THROUGH IT, NO GOOD, STICKY DRAMA, SDFK, ANIMALS\\\\n\\\\nLEAST FAV TRACK: LIFT\\\\n\\\\nONEOHTRIX POINT NEVER - GARDEN OF DELETE \\\\/ 2015 \\\\/ WARP RECORDS \\\\/ ABSTRACT ELECTRONIC MUSIC MEANT TO MESS WITH YOUR HEAD AND INSPIRE BEAUTIFUL MENTAL IMAGES\\\\n\\\\n8\\\\/10 http:\\\\/\\\\/www.theneedledrop.com\\\\/loved-list\\\\/2015\\\\n\\\\nY\\'all know this is just my opinion, right?\",\"view_ct\":175891,\"small_thumbnail_url\":\"https:\\\\/\\\\/i.ytimg.com\\\\/vi\\\\/5RUl-fZU2LQ\\\\/default.jpg\",\"large_thumbnail_url\":\"https:\\\\/\\\\/i.ytimg.com\\\\/vi\\\\/5RUl-fZU2LQ\\\\/sddefault.jpg\",\"video_type\":\"misc\",\"review_score\":8,\"publish_date\":1447200000000,\"scrape_date\":1704640908805,\"median_similarity\":0.5739391016,\"n_similar_chunks\":3,\"weighted_median_similarity\":1.7218173048}]'"
      ]
     },
     "execution_count": 4,
     "metadata": {},
     "output_type": "execute_result"
    }
   ],
   "source": [
    "from utils.search import neural_search\n",
    "\n",
    "# Run the search\n",
    "neural_search(\n",
    "    query=\"deep, slowed drone background vocals, glitchy percussion and a heavy bassline\",\n",
    "    release_date_filter=None,\n",
    "    video_type_filter=None,\n",
    "    review_score_filter=None,\n",
    "    n_most_similar_chunks_per_video=8,\n",
    "    n_videos_to_return=3,\n",
    "    n_segment_chunks_to_showcase=3,\n",
    ")"
   ]
  },
  {
   "cell_type": "code",
   "execution_count": null,
   "metadata": {},
   "outputs": [],
   "source": []
  }
 ],
 "metadata": {
  "kernelspec": {
   "display_name": ".venv",
   "language": "python",
   "name": "python3"
  },
  "language_info": {
   "codemirror_mode": {
    "name": "ipython",
    "version": 3
   },
   "file_extension": ".py",
   "mimetype": "text/x-python",
   "name": "python",
   "nbconvert_exporter": "python",
   "pygments_lexer": "ipython3",
   "version": "3.11.0"
  }
 },
 "nbformat": 4,
 "nbformat_minor": 2
}
