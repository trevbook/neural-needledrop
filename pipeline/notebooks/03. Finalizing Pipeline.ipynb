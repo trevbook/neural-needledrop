{
 "cells": [
  {
   "cell_type": "markdown",
   "metadata": {},
   "source": [
    "# **Finalizing Pipeline**\n",
    "In **`02. Prototyping Data Pipeline`**, I scoped out the entire data pipeline. Once I knew that it was running properly, I wanted to make it more configurable and contained. \n",
    "\n",
    "This notebook is going to be similar to that notebook, but will invoke entire configurable pipeline methods instead of multiple-cell stretches for each section. \n",
    "\n",
    "Each of the methods invoked will correspond with a step of the pipeline. There are a couple of different ones: \n",
    "\n",
    "- **Initialize Cloud Resources:** This will make sure that all of the GBQ tables & GCS buckets exist. It'll have an optional attribute for deleting *everything*. \n",
    "\n",
    "- **Download Video Metadata:** Next up: downloading some video metadata. This will identify which videos that a user needs to find, and then uses `pytube` to download some metadata. \n",
    "\n",
    "- **Enrich Video Metadata:** This step will determine what type of video each video is (album review, weekly track roundup, etc.), and extract review scores from the description\n",
    "\n",
    "- **Downloading Video Audio:** This step will download the audio of videos we haven't downloaded yet\n",
    "\n",
    "- **Transcribing Audio:** Next: this step uses OpenAI's Whisper model to transcribe all of the audio we've downloaded. \n",
    "\n",
    "- **Embedding Transcriptions:** Finally, we're going to embed some of the transcriptions that we've created using Whisper. \n",
    "\n",
    "Each of these methods shares a couple of key design steps: \n",
    "\n",
    "- Idempotency: The methods can be retried, and won't necessarily overwrite things\n",
    "- Logging: Each of the methods logs information (using various logging levels) to Google Cloud Logging \n",
    "- Configurable: Different parameters of the pipeline step can be indicated through command line arguments. I've also got a way to load in these configurations via .yml files. "
   ]
  },
  {
   "cell_type": "markdown",
   "metadata": {},
   "source": [
    "# Setup\n",
    "The cells below will set up the rest of the notebook.\n",
    "\n",
    "I'll start by configuring the kernel: "
   ]
  },
  {
   "cell_type": "code",
   "execution_count": 1,
   "metadata": {},
   "outputs": [
    {
     "name": "stdout",
     "output_type": "stream",
     "text": [
      "d:\\data\\programming\\neural-needledrop\\pipeline\n"
     ]
    }
   ],
   "source": [
    "# Change the working directory \n",
    "%cd ..\n",
    "\n",
    "# Enable the autoreload extension, which will automatically load in new code as it's written\n",
    "%load_ext autoreload\n",
    "%autoreload 2"
   ]
  },
  {
   "cell_type": "markdown",
   "metadata": {},
   "source": [
    "Now I'll import some necessary modules:"
   ]
  },
  {
   "cell_type": "code",
   "execution_count": 2,
   "metadata": {},
   "outputs": [
    {
     "name": "stdout",
     "output_type": "stream",
     "text": [
      "env: LOG_TO_CONSOLE=True\n",
      "env: LOG_LEVEL=DEBUG\n",
      "env: TQDM_ENABLED=True\n"
     ]
    }
   ],
   "source": [
    "# Set up some environment variables to configure the logging \n",
    "%env LOG_TO_CONSOLE=True\n",
    "%env LOG_LEVEL=DEBUG\n",
    "%env TQDM_ENABLED=True\n",
    "\n",
    "# General import statements\n",
    "import pandas as pd\n",
    "\n",
    "# Import each of the different jobs\n",
    "from jobs.initialize_cloud_resources import run_initialize_cloud_resources_job\n",
    "from jobs.download_video_metadata import run_download_video_metadata_job\n",
    "from jobs.enrich_video_metadata import run_enrich_video_metadata_job\n",
    "from jobs.download_audio import run_download_audio_job\n",
    "from jobs.transcribe_audio import run_transcribe_audio_job\n",
    "from jobs.embed_transcriptions import run_embed_transcriptions_job"
   ]
  },
  {
   "cell_type": "markdown",
   "metadata": {},
   "source": [
    "# Running Jobs\n",
    "Below, I'm going to run each of the individual jobs. "
   ]
  },
  {
   "cell_type": "markdown",
   "metadata": {},
   "source": [
    "### Initialize Cloud Resources\n"
   ]
  },
  {
   "cell_type": "code",
   "execution_count": null,
   "metadata": {},
   "outputs": [],
   "source": [
    "# Run the initialize resources job\n",
    "run_initialize_cloud_resources_job()"
   ]
  },
  {
   "cell_type": "markdown",
   "metadata": {},
   "source": [
    "### Downloading Video Metadata"
   ]
  },
  {
   "cell_type": "code",
   "execution_count": null,
   "metadata": {},
   "outputs": [],
   "source": [
    "# Run the download video metadata job\n",
    "run_download_video_metadata_job(\n",
    "    channel_url=\"https://www.youtube.com/c/theneedledrop\",\n",
    "    video_limit=10,\n",
    "    stop_at_most_recent_video=True,\n",
    "    video_parse_step_size=25,\n",
    "    time_to_sleep_between_requests=2,\n",
    "    sleep_time_multiplier=2.25,\n",
    "    n_days_to_not_scrape=1,\n",
    ")"
   ]
  },
  {
   "cell_type": "markdown",
   "metadata": {},
   "source": [
    "### Enrich Video Metadata\n"
   ]
  },
  {
   "cell_type": "code",
   "execution_count": null,
   "metadata": {},
   "outputs": [],
   "source": [
    "# Run the enrich video metadata job\n",
    "run_enrich_video_metadata_job()"
   ]
  },
  {
   "cell_type": "markdown",
   "metadata": {},
   "source": [
    "### Downloading Audio"
   ]
  },
  {
   "cell_type": "code",
   "execution_count": null,
   "metadata": {},
   "outputs": [],
   "source": [
    "# Run the run_download_audio_job\n",
    "run_download_audio_job(\n",
    "    n_max_videos_to_download=1,\n",
    ")"
   ]
  },
  {
   "cell_type": "markdown",
   "metadata": {},
   "source": [
    "### Transcribing Audio"
   ]
  },
  {
   "cell_type": "code",
   "execution_count": null,
   "metadata": {},
   "outputs": [],
   "source": [
    "# Run the transcribe_audio job\n",
    "run_transcribe_audio_job(\n",
    "    n_max_to_transcribe=1,\n",
    ")"
   ]
  },
  {
   "cell_type": "markdown",
   "metadata": {},
   "source": [
    "### Embedding Audio"
   ]
  },
  {
   "cell_type": "code",
   "execution_count": null,
   "metadata": {},
   "outputs": [],
   "source": [
    "# Run the embed_transcriptions job\n",
    "run_embed_transcriptions_job(max_videos_to_embed=700)"
   ]
  },
  {
   "cell_type": "code",
   "execution_count": 40,
   "metadata": {},
   "outputs": [],
   "source": [
    "from utils.openai import embed_text_list, embed_text"
   ]
  },
  {
   "cell_type": "code",
   "execution_count": 41,
   "metadata": {},
   "outputs": [
    {
     "name": "stderr",
     "output_type": "stream",
     "text": [
      "Embedding Texts: 100%|██████████| 2/2 [00:00<00:00,  2.50it/s]\n"
     ]
    }
   ],
   "source": [
    "embs = embed_text_list([\"this is some text\", \"this is another piece of text, which should have a different embedding\"])"
   ]
  },
  {
   "cell_type": "code",
   "execution_count": 42,
   "metadata": {},
   "outputs": [
    {
     "data": {
      "text/plain": [
       "False"
      ]
     },
     "execution_count": 42,
     "metadata": {},
     "output_type": "execute_result"
    }
   ],
   "source": [
    "embs[0] == embs[1]"
   ]
  },
  {
   "cell_type": "code",
   "execution_count": null,
   "metadata": {},
   "outputs": [],
   "source": [
    "emb_1 = "
   ]
  }
 ],
 "metadata": {
  "kernelspec": {
   "display_name": ".venv",
   "language": "python",
   "name": "python3"
  },
  "language_info": {
   "codemirror_mode": {
    "name": "ipython",
    "version": 3
   },
   "file_extension": ".py",
   "mimetype": "text/x-python",
   "name": "python",
   "nbconvert_exporter": "python",
   "pygments_lexer": "ipython3",
   "version": "3.11.0"
  }
 },
 "nbformat": 4,
 "nbformat_minor": 2
}
