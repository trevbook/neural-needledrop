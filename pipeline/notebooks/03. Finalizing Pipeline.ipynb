{
 "cells": [
  {
   "cell_type": "markdown",
   "metadata": {},
   "source": [
    "# **Finalizing Pipeline**\n",
    "In **`02. Prototyping Data Pipeline`**, I scoped out the entire data pipeline. Once I knew that it was running properly, I wanted to make it more configurable and contained. \n",
    "\n",
    "This notebook is going to be similar to that notebook, but will invoke entire configurable pipeline methods instead of multiple-cell stretches for each section. \n",
    "\n",
    "Each of the methods invoked will correspond with a step of the pipeline. There are a couple of different ones: \n",
    "\n",
    "- **Initialize Cloud Resources:** This will make sure that all of the GBQ tables & GCS buckets exist. It'll have an optional attribute for deleting *everything*. \n",
    "\n",
    "- **Download Video Metadata:** Next up: downloading some video metadata. This will identify which videos that a user needs to find, and then uses `pytube` to download some metadata. \n",
    "\n",
    "- **Enrich Video Metadata:** This step will determine what type of video each video is (album review, weekly track roundup, etc.), and extract review scores from the description\n",
    "\n",
    "- **Downloading Video Audio:** This step will download the audio of videos we haven't downloaded yet\n",
    "\n",
    "- **Transcribing Audio:** Next: this step uses OpenAI's Whisper model to transcribe all of the audio we've downloaded. \n",
    "\n",
    "- **Embedding Transcriptions:** Finally, we're going to embed some of the transcriptions that we've created using Whisper. \n",
    "\n",
    "Each of these methods shares a couple of key design steps: \n",
    "\n",
    "- Idempotency: The methods can be retried, and won't necessarily overwrite things\n",
    "- Logging: Each of the methods logs information (using various logging levels) to Google Cloud Logging \n",
    "- Configurable: Different parameters of the pipeline step can be indicated through command line arguments. I've also got a way to load in these configurations via .yml files. "
   ]
  },
  {
   "cell_type": "markdown",
   "metadata": {},
   "source": [
    "# Setup\n",
    "The cells below will set up the rest of the notebook.\n",
    "\n",
    "I'll start by configuring the kernel: "
   ]
  },
  {
   "cell_type": "code",
   "execution_count": 1,
   "metadata": {},
   "outputs": [
    {
     "name": "stdout",
     "output_type": "stream",
     "text": [
      "d:\\data\\programming\\neural-needledrop\\pipeline\n"
     ]
    }
   ],
   "source": [
    "# Change the working directory \n",
    "%cd ..\n",
    "\n",
    "# Enable the autoreload extension, which will automatically load in new code as it's written\n",
    "%load_ext autoreload\n",
    "%autoreload 2"
   ]
  },
  {
   "cell_type": "markdown",
   "metadata": {},
   "source": [
    "Now I'll import some necessary modules:"
   ]
  },
  {
   "cell_type": "code",
   "execution_count": 2,
   "metadata": {},
   "outputs": [
    {
     "name": "stdout",
     "output_type": "stream",
     "text": [
      "env: LOG_TO_CONSOLE=True\n",
      "env: LOG_LEVEL=INFO\n",
      "env: TQDM_ENABLED=True\n"
     ]
    }
   ],
   "source": [
    "# Set up some environment variables to configure the logging \n",
    "%env LOG_TO_CONSOLE=True\n",
    "%env LOG_LEVEL=INFO\n",
    "%env TQDM_ENABLED=True\n",
    "\n",
    "# General import statements\n",
    "import pandas as pandas\n",
    "\n",
    "# Import each of the different jobs\n",
    "from jobs.initialize_cloud_resources import run_initialize_cloud_resources_job\n",
    "from jobs.download_video_metadata import run_download_video_metadata_job\n",
    "from jobs.enrich_video_metadata import run_enrich_video_metadata_job\n",
    "from jobs.download_audio import run_download_audio_job\n",
    "from jobs.transcribe_audio import run_transcribe_audio_job\n",
    "from jobs.embed_transcriptions import run_embed_transcriptions_job"
   ]
  },
  {
   "cell_type": "markdown",
   "metadata": {},
   "source": [
    "# Running Jobs\n",
    "Below, I'm going to run each of the individual jobs. "
   ]
  },
  {
   "cell_type": "markdown",
   "metadata": {},
   "source": [
    "### Initialize Cloud Resources\n"
   ]
  },
  {
   "cell_type": "code",
   "execution_count": 3,
   "metadata": {},
   "outputs": [
    {
     "name": "stderr",
     "output_type": "stream",
     "text": [
      "2024-01-26 00:17:34,631 - pipeline.initialize_resources - INFO - Starting the INITIALIZE RESOURCES job.\n",
      "2024-01-26 00:17:39,786 - pipeline.initialize_resources - INFO - Finished the INITIALIZE RESOURCES job.\n"
     ]
    }
   ],
   "source": [
    "# Run the initialize resources job\n",
    "run_initialize_cloud_resources_job()"
   ]
  },
  {
   "cell_type": "markdown",
   "metadata": {},
   "source": [
    "### Downloading Video Metadata"
   ]
  },
  {
   "cell_type": "code",
   "execution_count": 4,
   "metadata": {},
   "outputs": [
    {
     "name": "stderr",
     "output_type": "stream",
     "text": [
      "2024-01-26 00:17:39,889 - pipeline.download_video_metadata - INFO - Starting the DOWNLOAD VIDEO METADATA job.\n",
      "2024-01-26 00:17:39,890 - pipeline.download_video_metadata - INFO - Crawling channel https://www.youtube.com/c/theneedledrop.\n",
      "d:\\data\\programming\\neural-needledrop\\pipeline\\jobs\\download_video_metadata.py:84: FutureWarning: read_gbq is deprecated and will be removed in a future version. Please use pandas_gbq.read_gbq instead: https://pandas-gbq.readthedocs.io/en/latest/api.html#pandas_gbq.read_gbq\n",
      "  most_recent_video_url_df = pd.read_gbq(\n",
      "2024-01-26 00:17:43,789 - pipeline.download_video_metadata - INFO - Most recent video url found: https://www.youtube.com/watch?v=OelpOL9bLTY\n",
      "d:\\data\\programming\\neural-needledrop\\pipeline\\utils\\gbq.py:185: FutureWarning: to_gbq is deprecated and will be removed in a future version. Please use pandas_gbq.to_gbq instead: https://pandas-gbq.readthedocs.io/en/latest/api.html#pandas_gbq.to_gbq\n",
      "  dataframe.to_gbq(\n",
      "d:\\data\\programming\\neural-needledrop\\pipeline\\jobs\\download_video_metadata.py:152: FutureWarning: read_gbq is deprecated and will be removed in a future version. Please use pandas_gbq.read_gbq instead: https://pandas-gbq.readthedocs.io/en/latest/api.html#pandas_gbq.read_gbq\n",
      "  actual_videos_to_parse_df = pd.read_gbq(\n",
      "2024-01-26 00:17:51,736 - pipeline.download_video_metadata - INFO - There aren't any videos to parse for channel https://www.youtube.com/c/theneedledrop. Exiting.\n"
     ]
    }
   ],
   "source": [
    "# Run the download video metadata job\n",
    "run_download_video_metadata_job(\n",
    "    channel_url=\"https://www.youtube.com/c/theneedledrop\",\n",
    "    video_limit=10,\n",
    "    stop_at_most_recent_video=True,\n",
    "    video_parse_step_size=25,\n",
    "    time_to_sleep_between_requests=2,\n",
    "    sleep_time_multiplier=2.25,\n",
    ")"
   ]
  },
  {
   "cell_type": "markdown",
   "metadata": {},
   "source": [
    "### Enrich Video Metadata\n"
   ]
  },
  {
   "cell_type": "code",
   "execution_count": 5,
   "metadata": {},
   "outputs": [
    {
     "name": "stderr",
     "output_type": "stream",
     "text": [
      "2024-01-26 00:17:51,850 - pipeline.enrich_video_metadata - INFO - Starting the ENRICH VIDEO METADATA job.\n",
      "d:\\data\\programming\\neural-needledrop\\pipeline\\jobs\\enrich_video_metadata.py:65: FutureWarning: read_gbq is deprecated and will be removed in a future version. Please use pandas_gbq.read_gbq instead: https://pandas-gbq.readthedocs.io/en/latest/api.html#pandas_gbq.read_gbq\n",
      "  videos_to_enrich_df = pd.read_gbq(videos_to_enrich_query, project_id=GBQ_PROJECT_ID)\n",
      "2024-01-26 00:17:53,339 - pipeline.enrich_video_metadata - INFO - No videos to enrich. Exiting the job...\n"
     ]
    }
   ],
   "source": [
    "# Run the enrich video metadata job\n",
    "run_enrich_video_metadata_job()"
   ]
  },
  {
   "cell_type": "markdown",
   "metadata": {},
   "source": [
    "### Downloading Audio"
   ]
  },
  {
   "cell_type": "code",
   "execution_count": 6,
   "metadata": {},
   "outputs": [
    {
     "name": "stderr",
     "output_type": "stream",
     "text": [
      "2024-01-26 00:17:53,448 - pipeline.download_audio - INFO - Starting the DOWNLOAD AUDIO job.\n",
      "d:\\data\\programming\\neural-needledrop\\pipeline\\jobs\\download_audio.py:87: FutureWarning: read_gbq is deprecated and will be removed in a future version. Please use pandas_gbq.read_gbq instead: https://pandas-gbq.readthedocs.io/en/latest/api.html#pandas_gbq.read_gbq\n",
      "  videos_for_audio_parsing_df = pd.read_gbq(\n",
      "2024-01-26 00:17:56,943 - pipeline.download_audio - INFO - No videos to download audio for. Exiting job...\n"
     ]
    }
   ],
   "source": [
    "# Run the run_download_audio_job\n",
    "run_download_audio_job(\n",
    "    n_max_videos_to_download=1,\n",
    ")"
   ]
  },
  {
   "cell_type": "markdown",
   "metadata": {},
   "source": [
    "### Transcribing Audio"
   ]
  },
  {
   "cell_type": "code",
   "execution_count": 7,
   "metadata": {},
   "outputs": [
    {
     "name": "stderr",
     "output_type": "stream",
     "text": [
      "2024-01-26 00:17:57,409 - pipeline.transcribe_audio - INFO - Starting the TRANSCRIBE AUDIO job.\n",
      "d:\\data\\programming\\neural-needledrop\\pipeline\\jobs\\transcribe_audio.py:87: FutureWarning: read_gbq is deprecated and will be removed in a future version. Please use pandas_gbq.read_gbq instead: https://pandas-gbq.readthedocs.io/en/latest/api.html#pandas_gbq.read_gbq\n",
      "  videos_for_transcription_df = pd.read_gbq(\n",
      "2024-01-26 00:18:01,288 - pipeline.transcribe_audio - INFO - Found 1 videos whose audio we need to transcribe.\n",
      "100%|██████████| 1/1 [00:02<00:00,  2.16s/it]\n",
      "2024-01-26 00:18:03,457 - pipeline.transcribe_audio - INFO - Finished downloading the audio of the videos we need to transcribe.\n",
      "2024-01-26 00:18:03,458 - pipeline.transcribe_audio - INFO - Starting the transcription process.\n",
      "100%|██████████| 1/1 [00:38<00:00, 38.28s/it]\n",
      "2024-01-26 00:18:41,741 - pipeline.transcribe_audio - INFO - Finished transcribing the audio.\n",
      "d:\\data\\programming\\neural-needledrop\\pipeline\\utils\\gbq.py:185: FutureWarning: to_gbq is deprecated and will be removed in a future version. Please use pandas_gbq.to_gbq instead: https://pandas-gbq.readthedocs.io/en/latest/api.html#pandas_gbq.to_gbq\n",
      "  dataframe.to_gbq(\n",
      "d:\\data\\programming\\neural-needledrop\\pipeline\\jobs\\transcribe_audio.py:255: FutureWarning: read_gbq is deprecated and will be removed in a future version. Please use pandas_gbq.read_gbq instead: https://pandas-gbq.readthedocs.io/en/latest/api.html#pandas_gbq.read_gbq\n",
      "  transcripts_to_upload_df = pd.read_gbq(\n",
      "2024-01-26 00:18:52,667 - pipeline.transcribe_audio - INFO - Finished the TRANSCRIBE AUDIO job.\n"
     ]
    }
   ],
   "source": [
    "# Run the transcribe_audio job\n",
    "run_transcribe_audio_job(\n",
    "    n_max_to_transcribe=1,\n",
    ")"
   ]
  },
  {
   "cell_type": "markdown",
   "metadata": {},
   "source": [
    "### Embedding Audio"
   ]
  },
  {
   "cell_type": "code",
   "execution_count": 8,
   "metadata": {},
   "outputs": [
    {
     "name": "stderr",
     "output_type": "stream",
     "text": [
      "d:\\data\\programming\\neural-needledrop\\pipeline\\jobs\\embed_transcriptions.py:108: FutureWarning: read_gbq is deprecated and will be removed in a future version. Please use pandas_gbq.read_gbq instead: https://pandas-gbq.readthedocs.io/en/latest/api.html#pandas_gbq.read_gbq\n",
      "  transcriptions_to_embed_df = pd.read_gbq(\n",
      "2024-01-26 00:18:58,432 - pipeline.embed_transcriptions - INFO - Found 6,686 individual transcription segments to embed.\n",
      "2024-01-26 00:18:58,599 - pipeline.embed_transcriptions - INFO - Groupped the transcription segments into 2,545 segment chunks.\n",
      "2024-01-26 00:18:58,601 - pipeline.embed_transcriptions - INFO - Embedding the transcription chunks...\n",
      "Embedding Texts: 100%|██████████| 2545/2545 [02:23<00:00, 17.74it/s]\n",
      "2024-01-26 00:21:22,112 - pipeline.embed_transcriptions - INFO - Finished embedding the transcription chunks.\n",
      "2024-01-26 00:21:22,113 - pipeline.embed_transcriptions - INFO - Storing the embeddings in GCS...\n",
      "100%|██████████| 2545/2545 [01:32<00:00, 27.42it/s]\n"
     ]
    }
   ],
   "source": [
    "# Run the embed_transcriptions job\n",
    "run_embed_transcriptions_job(max_videos_to_embed=50)"
   ]
  }
 ],
 "metadata": {
  "kernelspec": {
   "display_name": ".venv",
   "language": "python",
   "name": "python3"
  },
  "language_info": {
   "codemirror_mode": {
    "name": "ipython",
    "version": 3
   },
   "file_extension": ".py",
   "mimetype": "text/x-python",
   "name": "python",
   "nbconvert_exporter": "python",
   "pygments_lexer": "ipython3",
   "version": "3.11.0"
  }
 },
 "nbformat": 4,
 "nbformat_minor": 2
}
