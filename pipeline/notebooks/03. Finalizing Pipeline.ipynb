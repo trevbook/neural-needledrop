{
 "cells": [
  {
   "cell_type": "markdown",
   "metadata": {},
   "source": [
    "# **Finalizing Pipeline**\n",
    "In **`02. Prototyping Data Pipeline`**, I scoped out the entire data pipeline. Once I knew that it was running properly, I wanted to make it more configurable and contained. \n",
    "\n",
    "This notebook is going to be similar to that notebook, but will invoke entire configurable pipeline methods instead of multiple-cell stretches for each section. \n",
    "\n",
    "Each of the methods invoked will correspond with a step of the pipeline. There are a couple of different ones: \n",
    "\n",
    "- **Initialize Cloud Resources:** This will make sure that all of the GBQ tables & GCS buckets exist. It'll have an optional attribute for deleting *everything*. \n",
    "\n",
    "- **Download Video Metadata:** Next up: downloading some video metadata. This will identify which videos that a user needs to find, and then uses `pytube` to download some metadata. \n",
    "\n",
    "- **Enrich Video Metadata:** This step will determine what type of video each video is (album review, weekly track roundup, etc.), and extract review scores from the description\n",
    "\n",
    "- **Downloading Video Audio:** This step will download the audio of videos we haven't downloaded yet\n",
    "\n",
    "- **Transcribing Audio:** Next: this step uses OpenAI's Whisper model to transcribe all of the audio we've downloaded. \n",
    "\n",
    "- **Embedding Transcriptions:** Finally, we're going to embed some of the transcriptions that we've created using Whisper. \n",
    "\n",
    "Each of these methods shares a couple of key design steps: \n",
    "\n",
    "- Idempotency: The methods can be retried, and won't necessarily overwrite things\n",
    "- Logging: Each of the methods logs information (using various logging levels) to Google Cloud Logging \n",
    "- Configurable: Different parameters of the pipeline step can be indicated through command line arguments. I've also got a way to load in these configurations via .yml files. "
   ]
  },
  {
   "cell_type": "markdown",
   "metadata": {},
   "source": [
    "# Setup\n",
    "The cells below will set up the rest of the notebook.\n",
    "\n",
    "I'll start by configuring the kernel: "
   ]
  },
  {
   "cell_type": "code",
   "execution_count": 1,
   "metadata": {},
   "outputs": [
    {
     "name": "stdout",
     "output_type": "stream",
     "text": [
      "d:\\data\\programming\\neural-needledrop\\pipeline\n"
     ]
    }
   ],
   "source": [
    "# Change the working directory \n",
    "%cd ..\n",
    "\n",
    "# Enable the autoreload extension, which will automatically load in new code as it's written\n",
    "%load_ext autoreload\n",
    "%autoreload 2"
   ]
  },
  {
   "cell_type": "markdown",
   "metadata": {},
   "source": [
    "Now I'll import some necessary modules:"
   ]
  },
  {
   "cell_type": "code",
   "execution_count": 2,
   "metadata": {},
   "outputs": [
    {
     "name": "stdout",
     "output_type": "stream",
     "text": [
      "env: LOG_TO_CONSOLE=True\n",
      "env: LOG_LEVEL=INFO\n",
      "env: TQDM_ENABLED=True\n"
     ]
    }
   ],
   "source": [
    "# Set up some environment variables to configure the logging \n",
    "%env LOG_TO_CONSOLE=True\n",
    "%env LOG_LEVEL=INFO\n",
    "%env TQDM_ENABLED=True\n",
    "\n",
    "# General import statements\n",
    "import pandas as pandas\n",
    "\n",
    "# Import each of the different jobs\n",
    "from jobs.initialize_cloud_resources import run_initialize_cloud_resources_job\n",
    "from jobs.download_video_metadata import run_download_video_metadata_job\n",
    "from jobs.enrich_video_metadata import run_enrich_video_metadata_job\n",
    "from jobs.download_audio import run_download_audio_job\n",
    "from jobs.transcribe_audio import run_transcribe_audio_job\n",
    "from jobs.embed_transcriptions import run_embed_transcriptions_job"
   ]
  },
  {
   "cell_type": "markdown",
   "metadata": {},
   "source": [
    "# Running Jobs\n",
    "Below, I'm going to run each of the individual jobs. "
   ]
  },
  {
   "cell_type": "markdown",
   "metadata": {},
   "source": [
    "### Initialize Cloud Resources\n"
   ]
  },
  {
   "cell_type": "code",
   "execution_count": 3,
   "metadata": {},
   "outputs": [
    {
     "name": "stderr",
     "output_type": "stream",
     "text": [
      "2024-01-20 17:22:13,178 - pipeline.initialize_resources - INFO - Starting the INITIALIZE RESOURCES job.\n",
      "2024-01-20 17:22:16,913 - pipeline.initialize_resources - INFO - Finished the INITIALIZE RESOURCES job.\n"
     ]
    }
   ],
   "source": [
    "# Run the initialize resources job\n",
    "run_initialize_cloud_resources_job()"
   ]
  },
  {
   "cell_type": "markdown",
   "metadata": {},
   "source": [
    "### Downloading Video Metadata"
   ]
  },
  {
   "cell_type": "code",
   "execution_count": 4,
   "metadata": {},
   "outputs": [
    {
     "name": "stderr",
     "output_type": "stream",
     "text": [
      "2024-01-20 17:22:17,009 - pipeline.download_video_metadata - INFO - Starting the DOWNLOAD VIDEO METADATA job.\n",
      "2024-01-20 17:22:17,010 - pipeline.download_video_metadata - INFO - Crawling channel https://www.youtube.com/c/theneedledrop.\n",
      "2024-01-20 17:22:20,028 - pipeline.download_video_metadata - INFO - Most recent video url found: https://www.youtube.com/watch?v=74NdKIdbXJc\n",
      "2024-01-20 17:22:26,400 - pipeline.download_video_metadata - INFO - There aren't any videos to parse for channel https://www.youtube.com/c/theneedledrop. Exiting.\n"
     ]
    }
   ],
   "source": [
    "# Run the download video metadata job\n",
    "run_download_video_metadata_job(\n",
    "    channel_url=\"https://www.youtube.com/c/theneedledrop\",\n",
    "    video_limit=10,\n",
    "    stop_at_most_recent_video=True,\n",
    "    video_parse_step_size=25,\n",
    "    time_to_sleep_between_requests=2,\n",
    "    sleep_time_multiplier=2.25,\n",
    ")"
   ]
  },
  {
   "cell_type": "markdown",
   "metadata": {},
   "source": [
    "### Enrich Video Metadata\n"
   ]
  },
  {
   "cell_type": "code",
   "execution_count": 5,
   "metadata": {},
   "outputs": [
    {
     "name": "stderr",
     "output_type": "stream",
     "text": [
      "2024-01-20 17:22:26,503 - pipeline.enrich_video_metadata - INFO - Starting the ENRICH VIDEO METADATA job.\n",
      "2024-01-20 17:22:27,845 - pipeline.enrich_video_metadata - INFO - No videos to enrich. Exiting the job...\n"
     ]
    }
   ],
   "source": [
    "# Run the enrich video metadata job\n",
    "run_enrich_video_metadata_job()"
   ]
  },
  {
   "cell_type": "markdown",
   "metadata": {},
   "source": [
    "### Downloading Audio"
   ]
  },
  {
   "cell_type": "code",
   "execution_count": 6,
   "metadata": {},
   "outputs": [
    {
     "name": "stderr",
     "output_type": "stream",
     "text": [
      "2024-01-20 17:22:27,945 - pipeline.download_audio - INFO - Starting the DOWNLOAD AUDIO job.\n",
      "2024-01-20 17:22:31,242 - pipeline.download_audio - INFO - Downloading audio for 1 videos.\n",
      "100%|██████████| 1/1 [00:18<00:00, 18.96s/it]\n",
      "100%|██████████| 1/1 [00:09<00:00,  9.82s/it]\n"
     ]
    }
   ],
   "source": [
    "# Run the run_download_audio_job\n",
    "run_download_audio_job(\n",
    "    n_max_videos_to_download=1,\n",
    ")"
   ]
  },
  {
   "cell_type": "markdown",
   "metadata": {},
   "source": [
    "### Transcribing Audio"
   ]
  },
  {
   "cell_type": "code",
   "execution_count": 7,
   "metadata": {},
   "outputs": [
    {
     "name": "stderr",
     "output_type": "stream",
     "text": [
      "2024-01-20 17:23:00,529 - pipeline.transcribe_audio - INFO - Starting the TRANSCRIBE AUDIO job.\n",
      "2024-01-20 17:23:03,723 - pipeline.transcribe_audio - INFO - Found 1 videos whose audio we need to transcribe.\n",
      "100%|██████████| 1/1 [00:01<00:00,  1.20s/it]\n",
      "2024-01-20 17:23:04,925 - pipeline.transcribe_audio - INFO - Finished downloading the audio of the videos we need to transcribe.\n",
      "2024-01-20 17:23:04,926 - pipeline.transcribe_audio - INFO - Starting the transcription process.\n",
      "100%|██████████| 1/1 [01:10<00:00, 70.62s/it]\n",
      "2024-01-20 17:24:15,551 - pipeline.transcribe_audio - INFO - Finished transcribing the audio.\n",
      "2024-01-20 17:24:22,645 - pipeline.transcribe_audio - INFO - Finished the TRANSCRIBE AUDIO job.\n"
     ]
    }
   ],
   "source": [
    "# Run the transcribe_audio job\n",
    "run_transcribe_audio_job(\n",
    "    n_max_to_transcribe=1,\n",
    ")"
   ]
  },
  {
   "cell_type": "markdown",
   "metadata": {},
   "source": [
    "### Embedding Audio"
   ]
  },
  {
   "cell_type": "code",
   "execution_count": 8,
   "metadata": {},
   "outputs": [
    {
     "name": "stderr",
     "output_type": "stream",
     "text": [
      "2024-01-20 17:24:26,070 - pipeline.embed_transcriptions - INFO - Found 266 individual transcription segments to embed.\n",
      "2024-01-20 17:24:26,077 - pipeline.embed_transcriptions - INFO - Groupped the transcription segments into 101 segment chunks.\n",
      "2024-01-20 17:24:26,077 - pipeline.embed_transcriptions - INFO - Embedding the transcription chunks...\n",
      "Embedding Texts: 100%|██████████| 101/101 [00:02<00:00, 35.02it/s]\n",
      "2024-01-20 17:24:28,986 - pipeline.embed_transcriptions - INFO - Finished embedding the transcription chunks.\n",
      "2024-01-20 17:24:28,986 - pipeline.embed_transcriptions - INFO - Storing the embeddings in GCS...\n",
      "100%|██████████| 101/101 [00:01<00:00, 63.75it/s]\n"
     ]
    }
   ],
   "source": [
    "# Run the embed_transcriptions job\n",
    "run_embed_transcriptions_job()"
   ]
  }
 ],
 "metadata": {
  "kernelspec": {
   "display_name": ".venv",
   "language": "python",
   "name": "python3"
  },
  "language_info": {
   "codemirror_mode": {
    "name": "ipython",
    "version": 3
   },
   "file_extension": ".py",
   "mimetype": "text/x-python",
   "name": "python",
   "nbconvert_exporter": "python",
   "pygments_lexer": "ipython3",
   "version": "3.11.0"
  }
 },
 "nbformat": 4,
 "nbformat_minor": 2
}
