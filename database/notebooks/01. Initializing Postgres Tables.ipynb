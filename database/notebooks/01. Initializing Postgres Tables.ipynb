{
 "cells": [
  {
   "cell_type": "markdown",
   "metadata": {},
   "source": [
    "# **Initializing Postgres Tables**\n",
    "\n",
    "In this notebook, I'll be initialzing the Postgres tables. In order to properly run this notebook, you'll need to have a Postgres image running.\n"
   ]
  },
  {
   "cell_type": "markdown",
   "metadata": {},
   "source": [
    "# **Setup**\n",
    "\n",
    "The cells below will set up the rest of the notebook.\n",
    "\n",
    "I'll start by configuring the kernel:\n"
   ]
  },
  {
   "cell_type": "code",
   "execution_count": 1,
   "metadata": {},
   "outputs": [
    {
     "name": "stdout",
     "output_type": "stream",
     "text": [
      "d:\\data\\programming\\neural-needledrop\\database\n",
      "env: LOG_TO_CONSOLE=True\n",
      "env: LOG_LEVEL=DEBUG\n",
      "env: TQDM_ENABLED=True\n"
     ]
    }
   ],
   "source": [
    "# Change the working directory \n",
    "%cd ..\n",
    "\n",
    "# Enable the autoreload extension, which will automatically load in new code as it's written\n",
    "%load_ext autoreload\n",
    "%autoreload 2\n",
    "\n",
    "# Set up some envvars\n",
    "%env LOG_TO_CONSOLE=True\n",
    "%env LOG_LEVEL=DEBUG\n",
    "%env TQDM_ENABLED=True"
   ]
  },
  {
   "cell_type": "markdown",
   "metadata": {},
   "source": [
    "Now I'll import some necessary modules:\n"
   ]
  },
  {
   "cell_type": "code",
   "execution_count": 2,
   "metadata": {},
   "outputs": [],
   "source": [
    "# General import statements\n",
    "import pandas as pd\n",
    "from pandas_gbq import read_gbq\n",
    "from sqlalchemy import create_engine, MetaData, Table, Column, Integer, String, Date, Float, Boolean, DateTime\n",
    "from sqlalchemy.orm import sessionmaker, declarative_base\n",
    "from sqlalchemy.sql import func, text\n",
    "\n",
    "# Importing modules custom-built for this project\n",
    "from utils.settings import (\n",
    "    GBQ_PROJECT_ID,\n",
    "    GBQ_DATASET_ID,\n",
    "    POSTGRES_USER,\n",
    "    POSTGRES_PASSWORD,\n",
    "    POSTGRES_HOST,\n",
    "    POSTGRES_PORT,\n",
    "    POSTGRES_DB,\n",
    "    LOG_TO_CONSOLE\n",
    ")\n",
    "from utils.logging import get_logger\n",
    "from utils.postgres import delete_table, create_table\n",
    "\n",
    "# Set up a logger for this notebook\n",
    "logger = get_logger(\"postgres_notebook\", log_to_console=LOG_TO_CONSOLE)"
   ]
  },
  {
   "cell_type": "code",
   "execution_count": 4,
   "metadata": {},
   "outputs": [],
   "source": [
    "# Create the connection string to the database\n",
    "postgres_connection_string = f\"postgresql://{POSTGRES_USER}:{POSTGRES_PASSWORD}@{POSTGRES_HOST}:{POSTGRES_PORT}/{POSTGRES_DB}\"\n",
    "\n",
    "# Create the connection engine\n",
    "engine = create_engine(postgres_connection_string)\n",
    "metadata = MetaData()\n",
    "session = sessionmaker(bind=engine)()\n",
    "Base = declarative_base()"
   ]
  },
  {
   "cell_type": "markdown",
   "metadata": {},
   "source": [
    "# **Deleting Tables**\n",
    "First, we're going to delete the tables if they exist. "
   ]
  },
  {
   "cell_type": "code",
   "execution_count": 5,
   "metadata": {},
   "outputs": [
    {
     "name": "stderr",
     "output_type": "stream",
     "text": [
      "2024-01-25 23:17:18,682 - postgres_notebook - DEBUG - Successfully deleted table 'video_metadata'\n",
      "2024-01-25 23:17:18,698 - postgres_notebook - DEBUG - Successfully deleted table 'embeddings'\n",
      "2024-01-25 23:17:18,713 - postgres_notebook - DEBUG - Successfully deleted table 'transcriptions'\n"
     ]
    }
   ],
   "source": [
    "# Indicate which tables we want to delete\n",
    "tables_to_delete = [\"video_metadata\", \"embeddings\", \"transcriptions\"]\n",
    "\n",
    "# Iterate through each of the tables and delete them\n",
    "for table_name in tables_to_delete:\n",
    "    delete_table(table_name, engine, logger)"
   ]
  },
  {
   "cell_type": "markdown",
   "metadata": {},
   "source": [
    "# **Initializing Tables**\n",
    "Next up: we're going to initialize the tables that we want to create. "
   ]
  },
  {
   "cell_type": "markdown",
   "metadata": {},
   "source": [
    "### `video_metadata`\n",
    "The first table will be the `video_metadata` table, which will contain information about all of the videos in our database:"
   ]
  },
  {
   "cell_type": "code",
   "execution_count": 6,
   "metadata": {},
   "outputs": [
    {
     "name": "stderr",
     "output_type": "stream",
     "text": [
      "2024-01-25 23:17:18,822 - postgres_notebook - DEBUG - Successfully created table 'video_metadata'\n"
     ]
    }
   ],
   "source": [
    "# Define the schema that we'll be using for this table\n",
    "schema = [\n",
    "    Column(\"id\", String, primary_key=True),\n",
    "    Column(\"title\", String),\n",
    "    Column(\"length\", Integer),\n",
    "    Column(\"channel_id\", String),\n",
    "    Column(\"channel_name\", String),\n",
    "    Column(\"short_description\", String),\n",
    "    Column(\"description\", String),\n",
    "    Column(\"view_ct\", Integer),\n",
    "    Column(\"url\", String),\n",
    "    Column(\"small_thumbnail_url\", String),\n",
    "    Column(\"large_thumbnail_url\", String),\n",
    "    Column(\"video_type\", String),\n",
    "    Column(\"review_score\", Integer),\n",
    "    Column(\"publish_date\", DateTime),\n",
    "    Column(\"scrape_date\", DateTime),\n",
    "]\n",
    "\n",
    "# Create the table\n",
    "create_table(\"video_metadata\", schema, engine, metadata, logger)"
   ]
  },
  {
   "cell_type": "markdown",
   "metadata": {},
   "source": [
    "### `transcriptions`\n",
    "Next up: the `transcriptions` table. This will contain the different video transcriptions!"
   ]
  },
  {
   "cell_type": "code",
   "execution_count": 7,
   "metadata": {},
   "outputs": [
    {
     "name": "stderr",
     "output_type": "stream",
     "text": [
      "2024-01-25 23:17:18,892 - postgres_notebook - DEBUG - Successfully created table 'transcriptions'\n"
     ]
    }
   ],
   "source": [
    "# Define the schema that we'll be using for this table\n",
    "transcriptions_table_schema = [\n",
    "    Column(\"url\", String),\n",
    "    Column(\"text\", String),\n",
    "    Column(\"segment_id\", Integer),\n",
    "    Column(\"segment_seek\", Integer),\n",
    "    Column(\"segment_start\", Integer),\n",
    "    Column(\"segment_end\", Integer),\n",
    "]\n",
    "\n",
    "# Create the table\n",
    "create_table(\"transcriptions\", transcriptions_table_schema, engine, metadata, logger)"
   ]
  },
  {
   "cell_type": "markdown",
   "metadata": {},
   "source": [
    "### `embeddings`\n",
    "Next up: the `embeddings` table. This will require a *little* more setup than the other tables, since it's using the `pgvector` extension."
   ]
  },
  {
   "cell_type": "code",
   "execution_count": 8,
   "metadata": {},
   "outputs": [
    {
     "name": "stderr",
     "output_type": "stream",
     "text": [
      "2024-01-25 23:17:18,985 - postgres_notebook - DEBUG - Successfully created table 'embeddings'\n"
     ]
    }
   ],
   "source": [
    "# Enable the pgvector Extension\n",
    "session.execute(text(\"CREATE EXTENSION IF NOT EXISTS vector\"))\n",
    "session.commit()\n",
    "\n",
    "from pgvector.sqlalchemy import Vector\n",
    "\n",
    "# Now, we're going to create a table for the embeddings\n",
    "embeddings_table_schema = [\n",
    "    Column(\"id\", String, primary_key=True),\n",
    "    Column(\"url\", String),\n",
    "    Column(\"embedding_type\", String),\n",
    "    Column(\"start_segment\", Integer),\n",
    "    Column(\"end_segment\", Integer),\n",
    "    Column(\"segment_length\", Integer),\n",
    "    Column(\"embedding\", Vector(1536)),\n",
    "]\n",
    "\n",
    "# Now, we're going to create a table for the embeddings\n",
    "create_table(\"embeddings\", embeddings_table_schema, engine, metadata, logger)"
   ]
  },
  {
   "cell_type": "markdown",
   "metadata": {},
   "source": [
    "Now that we're done with this session, we'll close it. "
   ]
  },
  {
   "cell_type": "code",
   "execution_count": 9,
   "metadata": {},
   "outputs": [],
   "source": [
    "session.close()"
   ]
  }
 ],
 "metadata": {
  "kernelspec": {
   "display_name": ".venv",
   "language": "python",
   "name": "python3"
  },
  "language_info": {
   "codemirror_mode": {
    "name": "ipython",
    "version": 3
   },
   "file_extension": ".py",
   "mimetype": "text/x-python",
   "name": "python",
   "nbconvert_exporter": "python",
   "pygments_lexer": "ipython3",
   "version": "3.11.0"
  }
 },
 "nbformat": 4,
 "nbformat_minor": 2
}
